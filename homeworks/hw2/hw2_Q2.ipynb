{
 "cells": [
  {
   "cell_type": "markdown",
   "metadata": {
    "colab_type": "text",
    "id": "5tD_LgWqZ8y1"
   },
   "source": [
    "<a href=\"https://colab.research.google.com/github/rll/deepul/blob/master/homeworks/hw2/hw2_notebook.ipynb\" target=\"_parent\"><img src=\"https://colab.research.google.com/assets/colab-badge.svg\" alt=\"Open In Colab\"/></a>"
   ]
  },
  {
   "cell_type": "markdown",
   "metadata": {
    "colab_type": "text",
    "id": "Rdy1FtrRpGcC"
   },
   "source": [
    "# Getting Started\n",
    "\n",
    "## Overview\n",
    "This semester, all homeworks will be conducted through Google Colab notebooks. All code for the homework assignment will be written and run in this notebook. Running in Colab will automatically provide a GPU, but you may also run this notebook locally by following [these instructions](https://research.google.com/colaboratory/local-runtimes.html) if you wish to use your own GPU.\n",
    "\n",
    "You will save images in the notebooks to use and fill out a given LaTeX template which will be submitted to Gradescope, along with your notebook code.\n",
    "\n",
    "## Using Colab\n",
    "On the left-hand side, you can click the different icons to see a Table of Contents of the assignment, as well as local files accessible through the notebook.\n",
    "\n",
    "Make sure to go to **Runtime -> Change runtime type** and select **GPU** as the hardware accelerator. This allows you to use a GPU. Run the cells below to get started on the assignment. Note that a session is open for a maximum of 12 hours, and using too much GPU compute may result in restricted access for a short period of time. Please start the homework early so you have ample time to work.\n",
    "\n",
    "**If you loaded this notebook from clicking \"Open in Colab\" from github, you will need to save it to your own Google Drive to keep your work.**\n",
    "\n",
    "## General Tips\n",
    "In each homework problem, you will implement an flow model and run it on one to two datasets. We provide the expected outputs to help as a sanity check.\n",
    "\n",
    "Feel free to print whatever output (e.g. debugging code, training code, etc) you want, as the graded submission will be the submitted pdf with images.\n",
    "\n",
    "After you complete the assignment, download all of the image outputted in the results/ folder and upload them to the figure folder in the given latex template.\n",
    "\n",
    "Run the cells below to download and load up the starter code."
   ]
  },
  {
   "cell_type": "code",
   "execution_count": 1,
   "metadata": {
    "colab": {
     "base_uri": "https://localhost:8080/",
     "height": 343
    },
    "colab_type": "code",
    "id": "wUVy2glDtoaR",
    "outputId": "51fc7b48-0020-49ea-a8ff-fc3f9e59e9b4"
   },
   "outputs": [
    {
     "name": "stdout",
     "output_type": "stream",
     "text": [
      "['/home/magda/Github/deepul/homeworks/hw2', '/home/magda/anaconda3/envs/pytorch/lib/python38.zip', '/home/magda/anaconda3/envs/pytorch/lib/python3.8', '/home/magda/anaconda3/envs/pytorch/lib/python3.8/lib-dynload', '', '/home/magda/anaconda3/envs/pytorch/lib/python3.8/site-packages', '/home/magda/anaconda3/envs/pytorch/lib/python3.8/site-packages/IPython/extensions', '/home/magda/.ipython', '/home/magda/Github/deepul/homeworks', '/home/magda/Github/deepul']\n"
     ]
    }
   ],
   "source": [
    "try:\n",
    "    import google.colab\n",
    "    IN_COLAB = True\n",
    "except:\n",
    "    IN_COLAB = False\n",
    "\n",
    "if IN_COLAB:\n",
    "    !if [ -d deepul ]; then rm -Rf deepul; fi\n",
    "    !git clone -b magda https://github.com/mgswiss15/deepul.git \n",
    "    !unzip -qq deepul/homeworks/hw2/data/hw1_data.zip -d deepul/homeworks/hw2/data/\n",
    "    !pip install ./deepul\n",
    "else:\n",
    "    %load_ext autoreload\n",
    "    %autoreload 2\n",
    "    import sys\n",
    "    import pathlib\n",
    "    cwd = pathlib.Path().absolute()\n",
    "    sys.path.append(str(cwd.parents[0]))\n",
    "    sys.path.append(str(cwd.parents[1]))\n",
    "    print(sys.path)"
   ]
  },
  {
   "cell_type": "code",
   "execution_count": 2,
   "metadata": {
    "colab": {},
    "colab_type": "code",
    "id": "ZHWosWrbpO5Y"
   },
   "outputs": [],
   "source": [
    "if IN_COLAB:\n",
    "    from deepul.hw2_helper import *\n",
    "else:\n",
    "    from hw2_helper import *"
   ]
  },
  {
   "cell_type": "markdown",
   "metadata": {
    "colab_type": "text",
    "id": "bk6l6G30tEIg"
   },
   "source": [
    "# Question 2: Autoregressive Flows for Images [20pt]\n",
    "We can scale up the autoregressive flows from 1(a) to high-dimensional image data. In this question, we will focus on the black-and-white shapes dataset from Homework 1."
   ]
  },
  {
   "cell_type": "code",
   "execution_count": 3,
   "metadata": {
    "colab": {
     "base_uri": "https://localhost:8080/",
     "height": 264
    },
    "colab_type": "code",
    "id": "alF9C1t-tEys",
    "outputId": "15203037-194c-4a4d-b26a-0897070864b1"
   },
   "outputs": [
    {
     "data": {
      "image/png": "[encoded data removed]",
      "text/plain": [
       "<Figure size 432x288 with 1 Axes>"
      ]
     },
     "metadata": {
      "needs_background": "light"
     },
     "output_type": "display_data"
    }
   ],
   "source": [
    "visualize_q2_data()"
   ]
  },
  {
   "cell_type": "markdown",
   "metadata": {
    "colab_type": "text",
    "id": "sDywq5JZR4Eg"
   },
   "source": [
    "Adapt your PixelCNN implementation from Homework 1 and use it as an autoregressive flow model on the black-and-white shapes dataset. Using the base architecture from Homework 1 3(a), output a mixture of logistics or gaussians (instead of logits), whose CDF we will use as our flow for each dimension of x. \n",
    "\n",
    "Remember: you must dequantize the data and scale it between 0 and 1 for the autoregressive flow to have stable training. \n",
    "\n",
    "**You will provide these deliverables**\n",
    "\n",
    "1.   Over the course of training, record the average negative log-likelihood (nats / dim) of the training data (per minibatch) and test data (for your entire test set). Code is provided that automatically plots the training curves. **Make sure to account for any rescaling you do in your nats/dim.**\n",
    "2.   Report the final test set performance of your final model\n",
    "3. 100 samples from your autoregressive flow. Our plotting code will show your samples, with and without clipping and flooring (to remove the quantization). \n"
   ]
  },
  {
   "cell_type": "markdown",
   "metadata": {
    "colab_type": "text",
    "id": "fHHxHqSJTSAa"
   },
   "source": [
    "### Solution\n",
    "Fill out the function below and return the necessary arguments. Feel free to create more cells if need be."
   ]
  },
  {
   "cell_type": "markdown",
   "metadata": {},
   "source": [
    "#### How to use torch.gather\n",
    "check here: https://medium.com/analytics-vidhya/understanding-indexing-with-pytorch-gather-33717a84ebc4"
   ]
  },
  {
   "cell_type": "code",
   "execution_count": 4,
   "metadata": {},
   "outputs": [
    {
     "name": "stdout",
     "output_type": "stream",
     "text": [
      "tensor([[ 40., 140., 240., 340., 440., 540.],\n",
      "        [ 41., 141., 241., 341., 441., 541.],\n",
      "        [ 42., 142., 242., 342., 442., 542.],\n",
      "        [ 43., 143., 243., 343., 443., 543.],\n",
      "        [ 44., 144., 244., 344., 444., 544.],\n",
      "        [ 45., 145., 245., 345., 445., 545.],\n",
      "        [ 46., 146., 246., 346., 446., 546.],\n",
      "        [ 47., 147., 247., 347., 447., 547.]])\n",
      "torch.int64\n",
      "tensor([[[ 10., 110., 210., 310., 410., 510.]],\n",
      "\n",
      "        [[ 11., 111., 211., 311., 411., 511.]],\n",
      "\n",
      "        [[ 12., 112., 212., 312., 412., 512.]],\n",
      "\n",
      "        [[ 13., 113., 213., 313., 413., 513.]],\n",
      "\n",
      "        [[ 14., 114., 214., 314., 414., 514.]],\n",
      "\n",
      "        [[ 15., 115., 215., 315., 415., 515.]],\n",
      "\n",
      "        [[ 16., 116., 216., 316., 416., 516.]],\n",
      "\n",
      "        [[ 17., 117., 217., 317., 417., 517.]]])\n"
     ]
    }
   ],
   "source": [
    "batch_size = 8\n",
    "max_seq_len = 9\n",
    "hidden_size = 6\n",
    "x = torch.empty(batch_size, max_seq_len, hidden_size)\n",
    "for i in range(batch_size):\n",
    "  for j in range(max_seq_len):\n",
    "    for k in range(hidden_size):\n",
    "      x[i,j,k] = i + j*10 + k*100\n",
    "    \n",
    "print(x[:,4,:])\n",
    "indices = torch.ones(8, 1, 6)\n",
    "indices = indices.long()\n",
    "print(indices.dtype)\n",
    "results = torch.gather(x, 1, indices)\n",
    "print(results)"
   ]
  },
  {
   "cell_type": "code",
   "execution_count": 5,
   "metadata": {},
   "outputs": [],
   "source": [
    "from deepul.exp_utils2 import *\n",
    "from torch.distributions import Normal\n",
    "\n",
    "def dequantize(data):\n",
    "    '''Uniform deuqantization'''\n",
    "    if isinstance(data, np.ndarray):\n",
    "        data = torch.as_tensor(data, dtype=torch.float)\n",
    "    noise = torch.rand_like(data)\n",
    "    data = data + noise\n",
    "    data = data / 2.\n",
    "    return data\n",
    "\n",
    "\n",
    "class MaskedConv2d(nn.Conv2d):\n",
    "    def __init__(self, in_channels, out_channels, kernel_size, stride=1, padding=0):\n",
    "        super(MaskedConv2d, self).__init__(in_channels, out_channels, kernel_size, stride=stride, padding=padding)\n",
    "        self.mask = nn.Parameter(torch.zeros(out_channels, in_channels, *self.kernel_size), requires_grad=False)\n",
    "        k_size = self.kernel_size[0]\n",
    "        kernel_mid = k_size // 2\n",
    "        if kernel_mid==0:\n",
    "            self.mask[:] = 1.\n",
    "        else:\n",
    "            for i in range(k_size):\n",
    "                for j in range(k_size):\n",
    "                    if i < kernel_mid:\n",
    "                        self.mask[:, :, i, j] = 1.\n",
    "                    elif (i == kernel_mid) & (j < kernel_mid):\n",
    "                        self.mask[:, :, i, j] = 1.\n",
    "        \n",
    "    def forward(self, x):\n",
    "        return self._conv_forward(x, self.weight * self.mask)   \n",
    "    \n",
    "\n",
    "class PixelCNN(nn.Module):\n",
    "    def __init__(self, n_comp=5, filters=64):\n",
    "        super(PixelCNN, self).__init__()\n",
    "        self.n_comp = n_comp\n",
    "        self.filters = filters\n",
    "        layers = []\n",
    "        layers.append(MaskedConv2d(1, self.filters, 7, stride=1, padding=3))\n",
    "        for i in range(5):\n",
    "            layers.append(nn.ReLU())\n",
    "            layers.append(MaskedConv2d(self.filters, self.filters, 7, stride=1, padding=3))\n",
    "        layers.append(nn.ReLU())\n",
    "        layers.append(MaskedConv2d(self.filters, self.filters, 1, stride=1, padding=0))\n",
    "        layers.append(nn.ReLU())\n",
    "        self.sequential = nn.Sequential(*layers)\n",
    "        self.l_mus = MaskedConv2d(self.filters, self.n_comp, 1, stride=1, padding=0)\n",
    "        self.l_logsigmas = MaskedConv2d(self.filters, self.n_comp, 1, stride=1, padding=0)\n",
    "        self.l_weight_logits = MaskedConv2d(self.filters, self.n_comp, 1, stride=1, padding=0)\n",
    "       \n",
    "    def forward(self, x):\n",
    "        out = self.sequential(x)\n",
    "        mus = self.l_mus(out)\n",
    "        logsigmas = self.l_logsigmas(out)\n",
    "        weight_logits = self.l_weight_logits(out)\n",
    "        return mus, logsigmas, weight_logits   \n",
    "\n",
    "    \n",
    "class CdfFlow(nn.Module):\n",
    "    def __init__(self):\n",
    "        super(CdfFlow, self).__init__()\n",
    "        \n",
    "    def forward(self, x, mus, logsigmas, weight_logits):\n",
    "        sigmas = logsigmas.exp()\n",
    "        weights = F.softmax(weight_logits, dim=1) # careful about dim here (different from flow1)\n",
    "        distrib = Normal(mus, sigmas)\n",
    "#         cdf = distrib.cdf(x)\n",
    "#         z = (weights * cdf).sum(1, keepdim=True)\n",
    "        pdf = distrib.log_prob(x).exp()\n",
    "        jacobian = (weights * pdf).sum(1, keepdim=True)\n",
    "        z = torch.Tensor() # placeholder, utils expect to have some z but not needed for any downstream calcul here\n",
    "        return z, jacobian\n",
    "    \n",
    "    def inverse(self, z, mus, logsigmas, weight_logits):\n",
    "        sigmas = logsigmas.exp()\n",
    "        weights = F.softmax(weight_logits, dim=1) # careful about dim here (different from flow1)\n",
    "        weights = weights.permute(0, 2, 3, 1)\n",
    "        comps = torch.multinomial(weights.reshape([-1, weights.shape[3]]), 1)\n",
    "        comps = comps.view(*weights.shape[:3], -1)\n",
    "        comps = comps.permute(0, 3, 1, 2).long()\n",
    "        mus = mus.gather(1, comps)\n",
    "        sigmas = sigmas.gather(1, comps)\n",
    "        distrib = Normal(mus, sigmas)\n",
    "        x = distrib.icdf(z)\n",
    "        return x\n",
    "    \n",
    "    \n",
    "class AutoregressiveFlow(nn.Module):\n",
    "    def __init__(self, height, width, n_comp=5, filters=64):\n",
    "        super(AutoregressiveFlow, self).__init__()\n",
    "        self.height = height\n",
    "        self.width = width\n",
    "        self.n_comp = n_comp\n",
    "        self.filters = filters\n",
    "        self.flow = CdfFlow()\n",
    "        self.conditioner = PixelCNN(self.n_comp, self.filters)\n",
    "        \n",
    "    def forward(self, x):\n",
    "        mus, logsigmas, weight_logits = self.conditioner(x)\n",
    "        z, jacobian = self.flow(x, mus, logsigmas, weight_logits)\n",
    "        return z, jacobian\n",
    "    \n",
    "    def inverse(self, x, z):\n",
    "        mus, logsigmas, weight_logits = self.conditioner(x)\n",
    "        return self.flow.inverse(z, mus, logsigmas, weight_logits)\n",
    "    \n",
    "    def log_prob_x_from_z(self, jacobians):\n",
    "        # uniform.log_prob = 0 for U(0,1) so can be dropped from formula\n",
    "        log_prob = jacobians.abs().log().sum(dim=[1, 2, 3])\n",
    "        return log_prob\n",
    "    \n",
    "    def loss_function(self, z, jacobians):\n",
    "        loss = -self.log_prob_x_from_z(jacobians).mean()\n",
    "        return loss\n",
    "    \n",
    "    def eval_log_prob(self, x):\n",
    "        self.eval()\n",
    "        with torch.no_grad():\n",
    "            zs, jacobians = self(x)\n",
    "            log_prob = self.log_prob_x_from_z(jacobians)\n",
    "        return log_prob\n",
    "    \n",
    "    def sampling(self, size):\n",
    "        print(f'Begin sampling')\n",
    "        self.eval()\n",
    "        with torch.no_grad():\n",
    "            sample = torch.rand((size, 1, self.height, self.width))\n",
    "            if next(self.parameters()).is_cuda:\n",
    "                sample = sample.cuda()\n",
    "            z = torch.rand_like(sample)\n",
    "            for i in range(self.height):\n",
    "                for j in range(self.width):\n",
    "                    sample[:, :, i, j] = self.inverse(sample, z)[:, :, i, j]\n",
    "                print(f'Sampled row {i}')\n",
    "            images = sample.permute(0, 2, 3, 1)\n",
    "        return images"
   ]
  },
  {
   "cell_type": "code",
   "execution_count": 6,
   "metadata": {
    "colab": {},
    "colab_type": "code",
    "id": "wtFZU2ymB6_t"
   },
   "outputs": [],
   "source": [
    "def q2(train_data, test_data):\n",
    "    \"\"\"\n",
    "    train_data: A (n_train, H, W, 1) uint8 numpy array of binary images with values in {0, 1}\n",
    "    test_data: A (n_test, H, W, 1) uint8 numpy array of binary images with values in {0, 1}\n",
    "    H = W = 20\n",
    "    Note that you should dequantize your train and test data, your dequantized pixels should all lie in [0,1]\n",
    "\n",
    "    Returns\n",
    "    - a (# of training iterations,) numpy array of train_losses evaluated every minibatch\n",
    "    - a (# of epochs + 1,) numpy array of test_losses evaluated once at initialization and after each epoch\n",
    "    - a numpy array of size (100, H, W, 1) of samples with values in [0, 1], where [0,0.5] represents a black pixel\n",
    "      and [0.5,1] represents a white pixel. We will show your samples with and without noise. \n",
    "    \"\"\"\n",
    "\n",
    "    \"\"\" YOUR CODE HERE \"\"\"\n",
    "    train_data = np.transpose(train_data, (0, 3, 1, 2))\n",
    "    test_data = np.transpose(test_data, (0, 3, 1, 2))\n",
    "#     train_data = train_data[:10,:,:3, :3]\n",
    "#     test_data = test_data[:10,:,:3, :3]\n",
    "    train_data = dequantize(train_data)\n",
    "    test_data = dequantize(test_data)\n",
    "    height, width = train_data.shape[2:]\n",
    "\n",
    "    DEVICE = torch.device('cuda')\n",
    "    train_loader, test_loader = get_loaders(train_data, test_data, bs=128)\n",
    "\n",
    "    model = AutoregressiveFlow(height, width, n_comp=5, filters=64).to(DEVICE)\n",
    "    optim_algo = torch.optim.Adam\n",
    "    nll_train, nll_test = training(\n",
    "        train_loader, test_loader,\n",
    "        model, optim_algo, learn_rate=1e-4, device=DEVICE, epochs=1)\n",
    "    npixels = height*width\n",
    "    nll_train = np.array(nll_train) / npixels\n",
    "    nll_test = np.array(nll_test) / npixels\n",
    "    return nll_train, nll_test, model.sampling(100).cpu().numpy()"
   ]
  },
  {
   "cell_type": "markdown",
   "metadata": {
    "colab_type": "text",
    "id": "Iso12bj4Tup8"
   },
   "source": [
    "### Results\n",
    "\n",
    "Once you've implemented `q2`, execute the cells below to visualize and save your results\n",
    "\n"
   ]
  },
  {
   "cell_type": "code",
   "execution_count": 7,
   "metadata": {
    "colab": {
     "base_uri": "https://localhost:8080/",
     "height": 874,
     "referenced_widgets": [
      "031222ecfbd1416ebfab07078a05e758",
      "7e4cec4e23d6474b99b1f33e9318e794",
      "a1ddcfc21b7242aa81b49c0ebfad1b10",
      "79a82421d1d74b9483c3ebeff28a246e",
      "cca9f1ae95de4905a514cd177bdfb314",
      "6eacf0262ddb4c908b71a45db6c47756",
      "a48a69ade6ae45709aa89cf468a9e82a",
      "0c17d72b33444ac1acec6d4ecbe99adb"
     ]
    },
    "colab_type": "code",
    "id": "njfGrZ74Jm2d",
    "outputId": "b57dff77-b3a2-44af-87c6-cb3334677144"
   },
   "outputs": [
    {
     "name": "stdout",
     "output_type": "stream",
     "text": [
      "Epoch 0 loss train: 124.20487976074219, test: 114.88703155517578\n",
      "Begin sampling\n",
      "Sampled row 0\n",
      "Sampled row 1\n",
      "Sampled row 2\n",
      "Sampled row 3\n",
      "Sampled row 4\n",
      "Sampled row 5\n",
      "Sampled row 6\n",
      "Sampled row 7\n",
      "Sampled row 8\n",
      "Sampled row 9\n",
      "Sampled row 10\n",
      "Sampled row 11\n",
      "Sampled row 12\n",
      "Sampled row 13\n",
      "Sampled row 14\n",
      "Sampled row 15\n",
      "Sampled row 16\n",
      "Sampled row 17\n",
      "Sampled row 18\n",
      "Sampled row 19\n",
      "Final Test Loss: 0.2872\n"
     ]
    },
    {
     "data": {
      "image/png": "[encoded data removed]",
      "text/plain": [
       "<Figure size 432x288 with 1 Axes>"
      ]
     },
     "metadata": {
      "needs_background": "light"
     },
     "output_type": "display_data"
    },
    {
     "data": {
      "image/png": "[encoded data removed]",
      "text/plain": [
       "<Figure size 432x288 with 1 Axes>"
      ]
     },
     "metadata": {
      "needs_background": "light"
     },
     "output_type": "display_data"
    },
    {
     "data": {
      "image/png": "[encoded data removed]",
      "text/plain": [
       "<Figure size 432x288 with 1 Axes>"
      ]
     },
     "metadata": {
      "needs_background": "light"
     },
     "output_type": "display_data"
    }
   ],
   "source": [
    "q2_save_results(q2)"
   ]
  }
 ],
 "metadata": {
  "accelerator": "GPU",
  "colab": {
   "collapsed_sections": [],
   "name": "hw2_notebook.ipynb",
   "provenance": [],
   "toc_visible": true
  },
  "kernelspec": {
   "display_name": "Python 3",
   "language": "python",
   "name": "python3"
  },
  "language_info": {
   "codemirror_mode": {
    "name": "ipython",
    "version": 3
   },
   "file_extension": ".py",
   "mimetype": "text/x-python",
   "name": "python",
   "nbconvert_exporter": "python",
   "pygments_lexer": "ipython3",
   "version": "3.8.2"
  },
  "varInspector": {
   "cols": {
    "lenName": 16,
    "lenType": 16,
    "lenVar": "5"
   },
   "kernels_config": {
    "python": {
     "delete_cmd_postfix": "",
     "delete_cmd_prefix": "del ",
     "library": "var_list.py",
     "varRefreshCmd": "print(var_dic_list())"
    },
    "r": {
     "delete_cmd_postfix": ") ",
     "delete_cmd_prefix": "rm(",
     "library": "var_list.r",
     "varRefreshCmd": "cat(var_dic_list()) "
    }
   },
   "types_to_exclude": [
    "module",
    "function",
    "builtin_function_or_method",
    "instance",
    "_Feature"
   ],
   "window_display": false
  },
  "widgets": {
   "application/vnd.jupyter.widget-state+json": {
    "031222ecfbd1416ebfab07078a05e758": {
     "model_module": "@jupyter-widgets/controls",
     "model_name": "HBoxModel",
     "state": {
      "_dom_classes": [],
      "_model_module": "@jupyter-widgets/controls",
      "_model_module_version": "1.5.0",
      "_model_name": "HBoxModel",
      "_view_count": null,
      "_view_module": "@jupyter-widgets/controls",
      "_view_module_version": "1.5.0",
      "_view_name": "HBoxView",
      "box_style": "",
      "children": [
       "IPY_MODEL_a1ddcfc21b7242aa81b49c0ebfad1b10",
       "IPY_MODEL_79a82421d1d74b9483c3ebeff28a246e"
      ],
      "layout": "IPY_MODEL_7e4cec4e23d6474b99b1f33e9318e794"
     }
    },
    "0c17d72b33444ac1acec6d4ecbe99adb": {
     "model_module": "@jupyter-widgets/base",
     "model_name": "LayoutModel",
     "state": {
      "_model_module": "@jupyter-widgets/base",
      "_model_module_version": "1.2.0",
      "_model_name": "LayoutModel",
      "_view_count": null,
      "_view_module": "@jupyter-widgets/base",
      "_view_module_version": "1.2.0",
      "_view_name": "LayoutView",
      "align_content": null,
      "align_items": null,
      "align_self": null,
      "border": null,
      "bottom": null,
      "display": null,
      "flex": null,
      "flex_flow": null,
      "grid_area": null,
      "grid_auto_columns": null,
      "grid_auto_flow": null,
      "grid_auto_rows": null,
      "grid_column": null,
      "grid_gap": null,
      "grid_row": null,
      "grid_template_areas": null,
      "grid_template_columns": null,
      "grid_template_rows": null,
      "height": null,
      "justify_content": null,
      "justify_items": null,
      "left": null,
      "margin": null,
      "max_height": null,
      "max_width": null,
      "min_height": null,
      "min_width": null,
      "object_fit": null,
      "object_position": null,
      "order": null,
      "overflow": null,
      "overflow_x": null,
      "overflow_y": null,
      "padding": null,
      "right": null,
      "top": null,
      "visibility": null,
      "width": null
     }
    },
    "15f9f7bea21447a587cbe113bd8f1db8": {
     "model_module": "@jupyter-widgets/controls",
     "model_name": "HTMLModel",
     "state": {
      "_dom_classes": [],
      "_model_module": "@jupyter-widgets/controls",
      "_model_module_version": "1.5.0",
      "_model_name": "HTMLModel",
      "_view_count": null,
      "_view_module": "@jupyter-widgets/controls",
      "_view_module_version": "1.5.0",
      "_view_name": "HTMLView",
      "description": "",
      "description_tooltip": null,
      "layout": "IPY_MODEL_af99978dfe194c5cabc7a22566a73f32",
      "placeholder": "​",
      "style": "IPY_MODEL_925588a883d24a239f2dce621f3c3474",
      "value": "100% 250/250 [00:38&lt;00:00,  6.52it/s]"
     }
    },
    "26279b5b00d249d08db193c5d458d788": {
     "model_module": "@jupyter-widgets/base",
     "model_name": "LayoutModel",
     "state": {
      "_model_module": "@jupyter-widgets/base",
      "_model_module_version": "1.2.0",
      "_model_name": "LayoutModel",
      "_view_count": null,
      "_view_module": "@jupyter-widgets/base",
      "_view_module_version": "1.2.0",
      "_view_name": "LayoutView",
      "align_content": null,
      "align_items": null,
      "align_self": null,
      "border": null,
      "bottom": null,
      "display": null,
      "flex": null,
      "flex_flow": null,
      "grid_area": null,
      "grid_auto_columns": null,
      "grid_auto_flow": null,
      "grid_auto_rows": null,
      "grid_column": null,
      "grid_gap": null,
      "grid_row": null,
      "grid_template_areas": null,
      "grid_template_columns": null,
      "grid_template_rows": null,
      "height": null,
      "justify_content": null,
      "justify_items": null,
      "left": null,
      "margin": null,
      "max_height": null,
      "max_width": null,
      "min_height": null,
      "min_width": null,
      "object_fit": null,
      "object_position": null,
      "order": null,
      "overflow": null,
      "overflow_x": null,
      "overflow_y": null,
      "padding": null,
      "right": null,
      "top": null,
      "visibility": null,
      "width": null
     }
    },
    "4757025924a242268916ec5a7018047d": {
     "model_module": "@jupyter-widgets/controls",
     "model_name": "IntProgressModel",
     "state": {
      "_dom_classes": [],
      "_model_module": "@jupyter-widgets/controls",
      "_model_module_version": "1.5.0",
      "_model_name": "IntProgressModel",
      "_view_count": null,
      "_view_module": "@jupyter-widgets/controls",
      "_view_module_version": "1.5.0",
      "_view_name": "ProgressView",
      "bar_style": "",
      "description": "Epoch",
      "description_tooltip": null,
      "layout": "IPY_MODEL_8ad5177faa894bf6902daa3274d11007",
      "max": 100,
      "min": 0,
      "orientation": "horizontal",
      "style": "IPY_MODEL_8a648738a4ba45b5965a917fe4beab92",
      "value": 99
     }
    },
    "4a5f8210c0314f6a924f3fbb1f816a47": {
     "model_module": "@jupyter-widgets/controls",
     "model_name": "ProgressStyleModel",
     "state": {
      "_model_module": "@jupyter-widgets/controls",
      "_model_module_version": "1.5.0",
      "_model_name": "ProgressStyleModel",
      "_view_count": null,
      "_view_module": "@jupyter-widgets/base",
      "_view_module_version": "1.2.0",
      "_view_name": "StyleView",
      "bar_color": null,
      "description_width": "initial"
     }
    },
    "698eb0108e154b799b0bc85f12215c54": {
     "model_module": "@jupyter-widgets/controls",
     "model_name": "HBoxModel",
     "state": {
      "_dom_classes": [],
      "_model_module": "@jupyter-widgets/controls",
      "_model_module_version": "1.5.0",
      "_model_name": "HBoxModel",
      "_view_count": null,
      "_view_module": "@jupyter-widgets/controls",
      "_view_module_version": "1.5.0",
      "_view_name": "HBoxView",
      "box_style": "",
      "children": [
       "IPY_MODEL_8d83151bc7c540e1824cfaf1079c2649",
       "IPY_MODEL_15f9f7bea21447a587cbe113bd8f1db8"
      ],
      "layout": "IPY_MODEL_e43bfafcb08344a89b3c4bbc1e4c1045"
     }
    },
    "6cbb0ecbf2534e808d11b8b73f4381dc": {
     "model_module": "@jupyter-widgets/base",
     "model_name": "LayoutModel",
     "state": {
      "_model_module": "@jupyter-widgets/base",
      "_model_module_version": "1.2.0",
      "_model_name": "LayoutModel",
      "_view_count": null,
      "_view_module": "@jupyter-widgets/base",
      "_view_module_version": "1.2.0",
      "_view_name": "LayoutView",
      "align_content": null,
      "align_items": null,
      "align_self": null,
      "border": null,
      "bottom": null,
      "display": null,
      "flex": null,
      "flex_flow": null,
      "grid_area": null,
      "grid_auto_columns": null,
      "grid_auto_flow": null,
      "grid_auto_rows": null,
      "grid_column": null,
      "grid_gap": null,
      "grid_row": null,
      "grid_template_areas": null,
      "grid_template_columns": null,
      "grid_template_rows": null,
      "height": null,
      "justify_content": null,
      "justify_items": null,
      "left": null,
      "margin": null,
      "max_height": null,
      "max_width": null,
      "min_height": null,
      "min_width": null,
      "object_fit": null,
      "object_position": null,
      "order": null,
      "overflow": null,
      "overflow_x": null,
      "overflow_y": null,
      "padding": null,
      "right": null,
      "top": null,
      "visibility": null,
      "width": null
     }
    },
    "6eacf0262ddb4c908b71a45db6c47756": {
     "model_module": "@jupyter-widgets/base",
     "model_name": "LayoutModel",
     "state": {
      "_model_module": "@jupyter-widgets/base",
      "_model_module_version": "1.2.0",
      "_model_name": "LayoutModel",
      "_view_count": null,
      "_view_module": "@jupyter-widgets/base",
      "_view_module_version": "1.2.0",
      "_view_name": "LayoutView",
      "align_content": null,
      "align_items": null,
      "align_self": null,
      "border": null,
      "bottom": null,
      "display": null,
      "flex": null,
      "flex_flow": null,
      "grid_area": null,
      "grid_auto_columns": null,
      "grid_auto_flow": null,
      "grid_auto_rows": null,
      "grid_column": null,
      "grid_gap": null,
      "grid_row": null,
      "grid_template_areas": null,
      "grid_template_columns": null,
      "grid_template_rows": null,
      "height": null,
      "justify_content": null,
      "justify_items": null,
      "left": null,
      "margin": null,
      "max_height": null,
      "max_width": null,
      "min_height": null,
      "min_width": null,
      "object_fit": null,
      "object_position": null,
      "order": null,
      "overflow": null,
      "overflow_x": null,
      "overflow_y": null,
      "padding": null,
      "right": null,
      "top": null,
      "visibility": null,
      "width": null
     }
    },
    "79a82421d1d74b9483c3ebeff28a246e": {
     "model_module": "@jupyter-widgets/controls",
     "model_name": "HTMLModel",
     "state": {
      "_dom_classes": [],
      "_model_module": "@jupyter-widgets/controls",
      "_model_module_version": "1.5.0",
      "_model_name": "HTMLModel",
      "_view_count": null,
      "_view_module": "@jupyter-widgets/controls",
      "_view_module_version": "1.5.0",
      "_view_name": "HTMLView",
      "description": "",
      "description_tooltip": null,
      "layout": "IPY_MODEL_0c17d72b33444ac1acec6d4ecbe99adb",
      "placeholder": "​",
      "style": "IPY_MODEL_a48a69ade6ae45709aa89cf468a9e82a",
      "value": "100% 20/20 [02:12&lt;00:00,  6.89s/it]"
     }
    },
    "7a7a1e7d8184498cbeba151e810b063d": {
     "model_module": "@jupyter-widgets/controls",
     "model_name": "HBoxModel",
     "state": {
      "_dom_classes": [],
      "_model_module": "@jupyter-widgets/controls",
      "_model_module_version": "1.5.0",
      "_model_name": "HBoxModel",
      "_view_count": null,
      "_view_module": "@jupyter-widgets/controls",
      "_view_module_version": "1.5.0",
      "_view_name": "HBoxView",
      "box_style": "",
      "children": [
       "IPY_MODEL_4757025924a242268916ec5a7018047d",
       "IPY_MODEL_c5835b4964d14f1dbfdf3cdd9f60d494"
      ],
      "layout": "IPY_MODEL_6cbb0ecbf2534e808d11b8b73f4381dc"
     }
    },
    "7e4cec4e23d6474b99b1f33e9318e794": {
     "model_module": "@jupyter-widgets/base",
     "model_name": "LayoutModel",
     "state": {
      "_model_module": "@jupyter-widgets/base",
      "_model_module_version": "1.2.0",
      "_model_name": "LayoutModel",
      "_view_count": null,
      "_view_module": "@jupyter-widgets/base",
      "_view_module_version": "1.2.0",
      "_view_name": "LayoutView",
      "align_content": null,
      "align_items": null,
      "align_self": null,
      "border": null,
      "bottom": null,
      "display": null,
      "flex": null,
      "flex_flow": null,
      "grid_area": null,
      "grid_auto_columns": null,
      "grid_auto_flow": null,
      "grid_auto_rows": null,
      "grid_column": null,
      "grid_gap": null,
      "grid_row": null,
      "grid_template_areas": null,
      "grid_template_columns": null,
      "grid_template_rows": null,
      "height": null,
      "justify_content": null,
      "justify_items": null,
      "left": null,
      "margin": null,
      "max_height": null,
      "max_width": null,
      "min_height": null,
      "min_width": null,
      "object_fit": null,
      "object_position": null,
      "order": null,
      "overflow": null,
      "overflow_x": null,
      "overflow_y": null,
      "padding": null,
      "right": null,
      "top": null,
      "visibility": null,
      "width": null
     }
    },
    "8942e1f4d98b4c9385c19d450958e4e8": {
     "model_module": "@jupyter-widgets/base",
     "model_name": "LayoutModel",
     "state": {
      "_model_module": "@jupyter-widgets/base",
      "_model_module_version": "1.2.0",
      "_model_name": "LayoutModel",
      "_view_count": null,
      "_view_module": "@jupyter-widgets/base",
      "_view_module_version": "1.2.0",
      "_view_name": "LayoutView",
      "align_content": null,
      "align_items": null,
      "align_self": null,
      "border": null,
      "bottom": null,
      "display": null,
      "flex": null,
      "flex_flow": null,
      "grid_area": null,
      "grid_auto_columns": null,
      "grid_auto_flow": null,
      "grid_auto_rows": null,
      "grid_column": null,
      "grid_gap": null,
      "grid_row": null,
      "grid_template_areas": null,
      "grid_template_columns": null,
      "grid_template_rows": null,
      "height": null,
      "justify_content": null,
      "justify_items": null,
      "left": null,
      "margin": null,
      "max_height": null,
      "max_width": null,
      "min_height": null,
      "min_width": null,
      "object_fit": null,
      "object_position": null,
      "order": null,
      "overflow": null,
      "overflow_x": null,
      "overflow_y": null,
      "padding": null,
      "right": null,
      "top": null,
      "visibility": null,
      "width": null
     }
    },
    "8a648738a4ba45b5965a917fe4beab92": {
     "model_module": "@jupyter-widgets/controls",
     "model_name": "ProgressStyleModel",
     "state": {
      "_model_module": "@jupyter-widgets/controls",
      "_model_module_version": "1.5.0",
      "_model_name": "ProgressStyleModel",
      "_view_count": null,
      "_view_module": "@jupyter-widgets/base",
      "_view_module_version": "1.2.0",
      "_view_name": "StyleView",
      "bar_color": null,
      "description_width": "initial"
     }
    },
    "8ad5177faa894bf6902daa3274d11007": {
     "model_module": "@jupyter-widgets/base",
     "model_name": "LayoutModel",
     "state": {
      "_model_module": "@jupyter-widgets/base",
      "_model_module_version": "1.2.0",
      "_model_name": "LayoutModel",
      "_view_count": null,
      "_view_module": "@jupyter-widgets/base",
      "_view_module_version": "1.2.0",
      "_view_name": "LayoutView",
      "align_content": null,
      "align_items": null,
      "align_self": null,
      "border": null,
      "bottom": null,
      "display": null,
      "flex": null,
      "flex_flow": null,
      "grid_area": null,
      "grid_auto_columns": null,
      "grid_auto_flow": null,
      "grid_auto_rows": null,
      "grid_column": null,
      "grid_gap": null,
      "grid_row": null,
      "grid_template_areas": null,
      "grid_template_columns": null,
      "grid_template_rows": null,
      "height": null,
      "justify_content": null,
      "justify_items": null,
      "left": null,
      "margin": null,
      "max_height": null,
      "max_width": null,
      "min_height": null,
      "min_width": null,
      "object_fit": null,
      "object_position": null,
      "order": null,
      "overflow": null,
      "overflow_x": null,
      "overflow_y": null,
      "padding": null,
      "right": null,
      "top": null,
      "visibility": null,
      "width": null
     }
    },
    "8d83151bc7c540e1824cfaf1079c2649": {
     "model_module": "@jupyter-widgets/controls",
     "model_name": "IntProgressModel",
     "state": {
      "_dom_classes": [],
      "_model_module": "@jupyter-widgets/controls",
      "_model_module_version": "1.5.0",
      "_model_name": "IntProgressModel",
      "_view_count": null,
      "_view_module": "@jupyter-widgets/controls",
      "_view_module_version": "1.5.0",
      "_view_name": "ProgressView",
      "bar_style": "",
      "description": "Epoch",
      "description_tooltip": null,
      "layout": "IPY_MODEL_26279b5b00d249d08db193c5d458d788",
      "max": 250,
      "min": 0,
      "orientation": "horizontal",
      "style": "IPY_MODEL_4a5f8210c0314f6a924f3fbb1f816a47",
      "value": 250
     }
    },
    "925588a883d24a239f2dce621f3c3474": {
     "model_module": "@jupyter-widgets/controls",
     "model_name": "DescriptionStyleModel",
     "state": {
      "_model_module": "@jupyter-widgets/controls",
      "_model_module_version": "1.5.0",
      "_model_name": "DescriptionStyleModel",
      "_view_count": null,
      "_view_module": "@jupyter-widgets/base",
      "_view_module_version": "1.2.0",
      "_view_name": "StyleView",
      "description_width": ""
     }
    },
    "a1ddcfc21b7242aa81b49c0ebfad1b10": {
     "model_module": "@jupyter-widgets/controls",
     "model_name": "IntProgressModel",
     "state": {
      "_dom_classes": [],
      "_model_module": "@jupyter-widgets/controls",
      "_model_module_version": "1.5.0",
      "_model_name": "IntProgressModel",
      "_view_count": null,
      "_view_module": "@jupyter-widgets/controls",
      "_view_module_version": "1.5.0",
      "_view_name": "ProgressView",
      "bar_style": "",
      "description": "Epoch",
      "description_tooltip": null,
      "layout": "IPY_MODEL_6eacf0262ddb4c908b71a45db6c47756",
      "max": 20,
      "min": 0,
      "orientation": "horizontal",
      "style": "IPY_MODEL_cca9f1ae95de4905a514cd177bdfb314",
      "value": 20
     }
    },
    "a48a69ade6ae45709aa89cf468a9e82a": {
     "model_module": "@jupyter-widgets/controls",
     "model_name": "DescriptionStyleModel",
     "state": {
      "_model_module": "@jupyter-widgets/controls",
      "_model_module_version": "1.5.0",
      "_model_name": "DescriptionStyleModel",
      "_view_count": null,
      "_view_module": "@jupyter-widgets/base",
      "_view_module_version": "1.2.0",
      "_view_name": "StyleView",
      "description_width": ""
     }
    },
    "af99978dfe194c5cabc7a22566a73f32": {
     "model_module": "@jupyter-widgets/base",
     "model_name": "LayoutModel",
     "state": {
      "_model_module": "@jupyter-widgets/base",
      "_model_module_version": "1.2.0",
      "_model_name": "LayoutModel",
      "_view_count": null,
      "_view_module": "@jupyter-widgets/base",
      "_view_module_version": "1.2.0",
      "_view_name": "LayoutView",
      "align_content": null,
      "align_items": null,
      "align_self": null,
      "border": null,
      "bottom": null,
      "display": null,
      "flex": null,
      "flex_flow": null,
      "grid_area": null,
      "grid_auto_columns": null,
      "grid_auto_flow": null,
      "grid_auto_rows": null,
      "grid_column": null,
      "grid_gap": null,
      "grid_row": null,
      "grid_template_areas": null,
      "grid_template_columns": null,
      "grid_template_rows": null,
      "height": null,
      "justify_content": null,
      "justify_items": null,
      "left": null,
      "margin": null,
      "max_height": null,
      "max_width": null,
      "min_height": null,
      "min_width": null,
      "object_fit": null,
      "object_position": null,
      "order": null,
      "overflow": null,
      "overflow_x": null,
      "overflow_y": null,
      "padding": null,
      "right": null,
      "top": null,
      "visibility": null,
      "width": null
     }
    },
    "c5835b4964d14f1dbfdf3cdd9f60d494": {
     "model_module": "@jupyter-widgets/controls",
     "model_name": "HTMLModel",
     "state": {
      "_dom_classes": [],
      "_model_module": "@jupyter-widgets/controls",
      "_model_module_version": "1.5.0",
      "_model_name": "HTMLModel",
      "_view_count": null,
      "_view_module": "@jupyter-widgets/controls",
      "_view_module_version": "1.5.0",
      "_view_name": "HTMLView",
      "description": "",
      "description_tooltip": null,
      "layout": "IPY_MODEL_8942e1f4d98b4c9385c19d450958e4e8",
      "placeholder": "​",
      "style": "IPY_MODEL_d4ae5b64ad24438eb6444532de970923",
      "value": " 99% 99/100 [00:08&lt;00:00, 11.51it/s]"
     }
    },
    "cca9f1ae95de4905a514cd177bdfb314": {
     "model_module": "@jupyter-widgets/controls",
     "model_name": "ProgressStyleModel",
     "state": {
      "_model_module": "@jupyter-widgets/controls",
      "_model_module_version": "1.5.0",
      "_model_name": "ProgressStyleModel",
      "_view_count": null,
      "_view_module": "@jupyter-widgets/base",
      "_view_module_version": "1.2.0",
      "_view_name": "StyleView",
      "bar_color": null,
      "description_width": "initial"
     }
    },
    "d4ae5b64ad24438eb6444532de970923": {
     "model_module": "@jupyter-widgets/controls",
     "model_name": "DescriptionStyleModel",
     "state": {
      "_model_module": "@jupyter-widgets/controls",
      "_model_module_version": "1.5.0",
      "_model_name": "DescriptionStyleModel",
      "_view_count": null,
      "_view_module": "@jupyter-widgets/base",
      "_view_module_version": "1.2.0",
      "_view_name": "StyleView",
      "description_width": ""
     }
    },
    "e43bfafcb08344a89b3c4bbc1e4c1045": {
     "model_module": "@jupyter-widgets/base",
     "model_name": "LayoutModel",
     "state": {
      "_model_module": "@jupyter-widgets/base",
      "_model_module_version": "1.2.0",
      "_model_name": "LayoutModel",
      "_view_count": null,
      "_view_module": "@jupyter-widgets/base",
      "_view_module_version": "1.2.0",
      "_view_name": "LayoutView",
      "align_content": null,
      "align_items": null,
      "align_self": null,
      "border": null,
      "bottom": null,
      "display": null,
      "flex": null,
      "flex_flow": null,
      "grid_area": null,
      "grid_auto_columns": null,
      "grid_auto_flow": null,
      "grid_auto_rows": null,
      "grid_column": null,
      "grid_gap": null,
      "grid_row": null,
      "grid_template_areas": null,
      "grid_template_columns": null,
      "grid_template_rows": null,
      "height": null,
      "justify_content": null,
      "justify_items": null,
      "left": null,
      "margin": null,
      "max_height": null,
      "max_width": null,
      "min_height": null,
      "min_width": null,
      "object_fit": null,
      "object_position": null,
      "order": null,
      "overflow": null,
      "overflow_x": null,
      "overflow_y": null,
      "padding": null,
      "right": null,
      "top": null,
      "visibility": null,
      "width": null
     }
    }
   }
  }
 },
 "nbformat": 4,
 "nbformat_minor": 1
}
