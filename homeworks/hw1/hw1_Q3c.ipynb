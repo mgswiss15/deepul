{
 "cells": [
  {
   "cell_type": "markdown",
   "metadata": {
    "colab_type": "text",
    "id": "view-in-github"
   },
   "source": [
    "<a href=\"https://colab.research.google.com/github/rll/deepul/blob/master/homeworks/hw1/hw1_notebook.ipynb\" target=\"_parent\"><img src=\"https://colab.research.google.com/assets/colab-badge.svg\" alt=\"Open In Colab\"/></a>"
   ]
  },
  {
   "cell_type": "markdown",
   "metadata": {
    "colab_type": "text",
    "id": "Rdy1FtrRpGcC"
   },
   "source": [
    "# Getting Started\n",
    "\n",
    "## Overview\n",
    "This semester, all homeworks will be conducted through Google Colab notebooks. All code for the homework assignment will be written and run in this notebook. Running in Colab will automatically provide a GPU, but you may also run this notebook locally by following [these instructions](https://research.google.com/colaboratory/local-runtimes.html) if you wish to use your own GPU.\n",
    "\n",
    "You will save images in the notebooks to use and fill out a given LaTeX template which will be submitted to Gradescope, along with your notebook code.\n",
    "\n",
    "## Using Colab\n",
    "On the left-hand side, you can click the different icons to see a Table of Contents of the assignment, as well as local files accessible through the notebook.\n",
    "\n",
    "Make sure to go to **Runtime -> Change runtime type** and select **GPU** as the hardware accelerator. This allows you to use a GPU. Run the cells below to get started on the assignment. Note that a session is open for a maximum of 12 hours, and using too much GPU compute may result in restricted access for a short period of time. Please start the homework early so you have ample time to work.\n",
    "\n",
    "**If you loaded this notebook from clicking \"Open in Colab\" from github, you will need to save it to your own Google Drive to keep your work.**\n",
    "\n",
    "## General Tips\n",
    "In each homework problem, you will implement an autoregressive model and run it on two datasets (dataset 1 and dataset 2). The expected outputs for dataset 1 are already provided to help as a sanity check.\n",
    "\n",
    "Feel free to print whatever output (e.g. debugging code, training code, etc) you want, as the graded submission will be the submitted pdf with images.\n",
    "\n",
    "After you complete the assignment, download all of the image outputted in the results/ folder and upload them to the figure folder in the given latex template.\n",
    "\n",
    "Run the cells below to download and load up the starter code."
   ]
  },
  {
   "cell_type": "code",
   "execution_count": 8,
   "metadata": {
    "colab": {},
    "colab_type": "code",
    "id": "wUVy2glDtoaR"
   },
   "outputs": [
    {
     "name": "stdout",
     "output_type": "stream",
     "text": [
      "The autoreload extension is already loaded. To reload it, use:\n",
      "  %reload_ext autoreload\n",
      "['/home/magda/Github/deepul/homeworks/hw1', '/home/magda/anaconda3/envs/pytorch/lib/python38.zip', '/home/magda/anaconda3/envs/pytorch/lib/python3.8', '/home/magda/anaconda3/envs/pytorch/lib/python3.8/lib-dynload', '', '/home/magda/anaconda3/envs/pytorch/lib/python3.8/site-packages', '/home/magda/anaconda3/envs/pytorch/lib/python3.8/site-packages/IPython/extensions', '/home/magda/.ipython', '/home/magda/Github/deepul/homeworks', '/home/magda/Github/deepul', '/home/magda/Github/deepul/homeworks', '/home/magda/Github/deepul']\n"
     ]
    }
   ],
   "source": [
    "try:\n",
    "    import google.colab\n",
    "    IN_COLAB = True\n",
    "except:\n",
    "    IN_COLAB = False\n",
    "\n",
    "if IN_COLAB:\n",
    "    !if [ -d deepul ]; then rm -Rf deepul; fi\n",
    "    !git clone -b magda https://github.com/mgswiss15/deepul.git \n",
    "    !unzip -qq deepul/homeworks/hw1/data/hw1_data.zip -d deepul/homeworks/hw1/data/\n",
    "    !pip install ./deepul\n",
    "else:\n",
    "    %load_ext autoreload\n",
    "    %autoreload 2\n",
    "    import sys\n",
    "    import pathlib\n",
    "    cwd = pathlib.Path().absolute()\n",
    "    sys.path.append(str(cwd.parents[0]))\n",
    "    sys.path.append(str(cwd.parents[1]))\n",
    "    print(sys.path)"
   ]
  },
  {
   "cell_type": "code",
   "execution_count": 9,
   "metadata": {
    "colab": {},
    "colab_type": "code",
    "id": "ZHWosWrbpO5Y"
   },
   "outputs": [],
   "source": [
    "if IN_COLAB:\n",
    "    from deepul.hw1_helper import *\n",
    "else:\n",
    "    from hw1_helper import *"
   ]
  },
  {
   "cell_type": "markdown",
   "metadata": {
    "colab_type": "text",
    "id": "dP8lmmk7Xrct"
   },
   "source": [
    "# Question 3 PixelCNNs"
   ]
  },
  {
   "cell_type": "markdown",
   "metadata": {
    "colab_type": "text",
    "id": "4wnyhDNqcAcw"
   },
   "source": [
    "Now, you will train more powerful PixleCNN models on the shapes dataset and MNIST. In addition, we will extend to modelling colored datasets with and without channel conditioning.\n",
    "\n"
   ]
  },
  {
   "cell_type": "markdown",
   "metadata": {
    "colab_type": "text",
    "id": "50WsEzhx4Uua"
   },
   "source": [
    "## Part (a) PixelCNN on Shapes and MNIST\n",
    "In this part, implement a simple PixelCNN architecture to model binary MNIST and shapes images (same as Q2(b), but with a PixelCNN).\n",
    "\n",
    "We recommend the following network design:\n",
    "* A $7 \\times 7$ masked type A convolution\n",
    "* $5$ $7 \\times 7$ masked type B convolutions\n",
    "* $2$ $1 \\times 1$ masked type B convolutions\n",
    "* Appropriate ReLU nonlinearities in-between\n",
    "* 64 convolutional filters\n",
    "\n",
    "And the following hyperparameters:\n",
    "* Batch size 128\n",
    "* Learning rate $10^{-3}$\n",
    "* 10 epochs\n",
    "* Adam Optimizer (this applies to all PixelCNN models trained in future parts)\n",
    "\n",
    "Your model should output logits, after which you could apply a sigmoid over 1 logit, or a softmax over two logits (either is fine). It may also help to scale your input to $[-1, 1]$ before running it through the network. \n",
    "\n",
    "Training on the shapes dataset should be quick, and MNIST should take around 10 minutes\n",
    "\n",
    "**You will provide these deliverables**\n",
    "\n",
    "\n",
    "1.   Over the course of training, record the average negative log-likelihood (nats / dim) of the training data (per minibatch) and test data (for your entire test set). Code is provided that automatically plots the training curves. \n",
    "2.   Report the final test set performance of your final model\n",
    "3. 100 samples from the final trained model\n",
    "\n"
   ]
  },
  {
   "cell_type": "markdown",
   "metadata": {
    "colab_type": "text",
    "id": "8J7qlqlODNgL"
   },
   "source": [
    "## Part (b) PixelCNN on Colored Shapes and MNIST: Independent Color Channels\n",
    "\n",
    "For the next two parts, we'll work with color images (shapes and MNIST). Run the cell below to visualize the dataset."
   ]
  },
  {
   "cell_type": "markdown",
   "metadata": {
    "colab_type": "text",
    "id": "3Y6NggR6gmU9"
   },
   "source": [
    "Now, implement a PixelCNN to support RGB color channels (or augment your existing implementation). **First, implement a PixelCNN that assumes color channels as independent.** More formally, we model the following parameterized distribution:\n",
    "\n",
    "$$p_\\theta(x) = \\prod_{i=1}^{HW}\\prod_{c=1}^C p_\\theta(x_i^c | x_{<i})$$\n",
    "\n",
    "Here are some tips that you may find useful for designing and training these models:\n",
    "* You will need a 4-way softmax for every prediction, as opposed to a 256-way softmax in the PixelCNN paper, since the dataset is quantized to two bits per color channel\n",
    "* You can set number of filters for each convolutions to 120. You can use the ReLU nonlinearity throughout.\n",
    "* Use a stack of 8 residual block architecture from [Figure 5](https://arxiv.org/abs/1601.06759) but with 7 x 7 masked convolutions in the middle instead of 3 x 3 masked convolutions\n",
    "* Consider using [layer normalization](https://arxiv.org/abs/1607.06450) to improve performance. However, be careful to maintain the autoregressive property.\n",
    "* With a learning rate of $10^{-3}$ and a batch size of 128, it should take a few minutes to run on the shapes dataset, and about 50-60 minutes on MNIST.\n",
    "\n",
    "**You will provide these deliverables**\n",
    "\n",
    "\n",
    "1.   Over the course of training, record the average negative log-likelihood (nats / dim) of the training data (per minibatch) and test data (for your entire test set). Code is provided that automatically plots the training curves. \n",
    "2.   Report the final test set performance of your final model\n",
    "3. 100 samples from the final trained model\n",
    "\n"
   ]
  },
  {
   "cell_type": "markdown",
   "metadata": {
    "colab_type": "text",
    "id": "HlX23th4JbRy"
   },
   "source": [
    "## Part (c) PixelCNN on Colored Shapes and MNIST: Autoregressive Color Channels\n",
    "\n",
    "Now, implement a PixelCNN that models **dependent** color channels. Formally, we model the parameterized distribution\n",
    "\n",
    "$$p_\\theta(x) = \\prod_{i=1}^{HW}\\prod_{c=1}^C p_\\theta(x_i^c | x_i^{<c}, x_{<i})$$\n",
    "\n",
    "To do so, change your masking scheme for the center pixel. Split the filters into 3 groups, only allowing each group to see the groups before (or including the current group, for type B masks) to maintain the autoregressive property.\n",
    "\n",
    "Training times and hyperparameter settings should be the same as part (b).\n",
    "\n",
    "**You will provide these deliverables**\n",
    "\n",
    "\n",
    "1.   Over the course of training, record the average negative log-likelihood (nats / dim) of the training data (per minibatch) and test data (for your entire test set). Code is provided that automatically plots the training curves. \n",
    "2.   Report the final test set performance of your final model\n",
    "3. 100 samples from the final trained model\n",
    "\n"
   ]
  },
  {
   "cell_type": "code",
   "execution_count": 10,
   "metadata": {},
   "outputs": [
    {
     "data": {
      "image/png": "[encoded data removed]",
      "text/plain": [
       "<Figure size 432x288 with 1 Axes>"
      ]
     },
     "metadata": {
      "needs_background": "light"
     },
     "output_type": "display_data"
    },
    {
     "data": {
      "image/png": "[encoded data removed]",
      "text/plain": [
       "<Figure size 432x288 with 1 Axes>"
      ]
     },
     "metadata": {
      "needs_background": "light"
     },
     "output_type": "display_data"
    }
   ],
   "source": [
    "visualize_q3b_data(1)\n",
    "visualize_q3b_data(2)"
   ]
  },
  {
   "cell_type": "markdown",
   "metadata": {
    "colab_type": "text",
    "id": "_4VvvEJQK3Bb"
   },
   "source": [
    "### Solution\n",
    "Fill out the function below and return the necessary arguments. Feel free to create more cells if need be."
   ]
  },
  {
   "cell_type": "code",
   "execution_count": 11,
   "metadata": {},
   "outputs": [],
   "source": [
    "import time\n",
    "from deepul.exp_utils import *\n",
    "\n",
    "class MaskedConv2d(nn.Conv2d):\n",
    "    \"\"\"Masked convolution layer as in PixelCNN\n",
    "    \n",
    "    detials in Oord et. al (2016): Pixel Recurent Neural Networks\n",
    "    this version:\n",
    "        - assumes RGB = 3 color channels\n",
    "        - A, B types as in Oord 2016\n",
    "        - treats all color channels as independent\n",
    "    \"\"\"\n",
    "    def __init__(self, masktype, in_channels, out_channels, kernel_size, stride=1, padding=0):\n",
    "        # for the moment masktypes don't do anything\n",
    "        assert masktype in ('A', 'B'), 'masktype has to be A or B'\n",
    "        super(MaskedConv2d, self).__init__(in_channels, out_channels, kernel_size, stride=stride, padding=padding)\n",
    "        self.mask = nn.Parameter(torch.zeros(out_channels, in_channels, *self.kernel_size), requires_grad=False)\n",
    "        k_size = self.kernel_size[0]\n",
    "        kernel_mid = k_size // 2\n",
    "        out_R = out_channels // 3\n",
    "        out_G = 2 * out_R\n",
    "        in_R = in_channels // 3\n",
    "        in_G = 2 * in_R\n",
    "        if kernel_mid>0:\n",
    "            self.mask[:, :, :kernel_mid, :] = 1.\n",
    "            self.mask[:, :, kernel_mid, :kernel_mid] = 1.\n",
    "        if masktype=='A':\n",
    "            self.mask[in_R:, :in_R, kernel_mid, kernel_mid] = 1.\n",
    "            self.mask[in_G:, in_R:in_G, kernel_mid, kernel_mid] = 1.\n",
    "        else:\n",
    "            self.mask[:, :in_R, kernel_mid, kernel_mid] = 1.\n",
    "            self.mask[in_R:, in_R:in_G, kernel_mid, kernel_mid] = 1.\n",
    "            self.mask[in_G:, in_G:, kernel_mid, kernel_mid] = 1.\n",
    "        assert (self.weight.shape==self.mask.shape), print(f'Unequal params {masktype} {in_challens} {out_channels}')\n",
    "        \n",
    "    def forward(self, x):\n",
    "        return self._conv_forward(x, self.weight * self.mask)   \n",
    "    \n",
    "class LayerNorm(nn.Module):\n",
    "    \"\"\"Layer norm for masked conv layers\n",
    "    \n",
    "    normalization across channels\n",
    "    this version:\n",
    "        - assumes RGB = 3 color channels\n",
    "    \"\"\"\n",
    "    def __init__(self, filters):\n",
    "        super(LayerNorm, self).__init__(filters)\n",
    "        \n",
    "    def forward(self, x):\n",
    "        x = x.permute(0, 2, 3, 1)\n",
    "        in_norm = x.view(*x.shape[:-1] + (3, -1))\n",
    "        out_norm = super().forward(in_norm)\n",
    "        out = out_norm.view(*x.shape)\n",
    "        return out.permute(0, 3, 1, 2)        \n",
    "\n",
    "#     def forward(self, x):\n",
    "#         rgb_chunks = torch.chunk(x, 3, dim=1)\n",
    "#         normed = []\n",
    "#         for chunk_id, one_chunk in enumerate(rgb_chunks):\n",
    "#             means = torch.mean(torch.cat(rgb_chunks[:chunk_id+1], dim=1), dim=1, keepdim=True)\n",
    "#             std = torch.std(torch.cat(rgb_chunks[:chunk_id+1], dim=1), dim=1, keepdim=True)\n",
    "#             one_chunk = (one_chunk - means) / std\n",
    "#             normed.append(one_chunk)\n",
    "#         return torch.cat(normed, dim=1)\n",
    "#         normed = []\n",
    "#         for one_chunk in rgb_chunks:\n",
    "#             means = torch.mean(one_chunk, dim=1, keepdim=True)\n",
    "#             std = torch.std(one_chunk, dim=1, keepdim=True)\n",
    "#             one_chunk = (one_chunk - means) / std\n",
    "#             normed.append(one_chunk)\n",
    "#         return torch.cat(normed, dim=1)\n",
    "\n",
    "    \n",
    "class ResBlock(nn.Module):\n",
    "    def __init__(self, filters):\n",
    "        super(ResBlock, self).__init__()\n",
    "        layers = []\n",
    "        layers.append(nn.ReLU())              \n",
    "        layers.append(MaskedConv2d('B', filters, filters // 2, 1))\n",
    "        layers.append(nn.ReLU())              \n",
    "        layers.append(MaskedConv2d('B', filters // 2, filters // 2, 7, padding=3))\n",
    "        layers.append(nn.ReLU())              \n",
    "        layers.append(MaskedConv2d('B', filters //2 , filters, 1))\n",
    "        self.resblock = nn.Sequential(*layers)\n",
    "        \n",
    "    def forward(self, x):\n",
    "        res = self.resblock(x)\n",
    "        return res + x   \n",
    "\n",
    "        \n",
    "class PixelCNN(nn.Module):\n",
    "    def __init__(self, image_shape, color_cats, filters=120):\n",
    "        super(PixelCNN, self).__init__()\n",
    "        self.image_shape = image_shape  # H, W, C\n",
    "        self.color_cats = color_cats\n",
    "        layers = []\n",
    "        layers.append(MaskedConv2d('A', self.image_shape[2], filters, 7, padding=3))\n",
    "        for i in range(8):\n",
    "            layers.append(LayerNorm(filters // 3))\n",
    "            layers.append(ResBlock(filters))\n",
    "        layers.append(LayerNorm(filters // 3))\n",
    "        layers.append(nn.ReLU())\n",
    "        layers.append(MaskedConv2d('B', filters, filters, 1))\n",
    "        layers.append(LayerNorm(filters // 3))\n",
    "        layers.append(nn.ReLU())\n",
    "        layers.append(MaskedConv2d('B', filters, self.image_shape[2]*color_cats, 1))\n",
    "        self.sequential = nn.Sequential(*layers)\n",
    "        self.loss_func = nn.CrossEntropyLoss(reduction='none')\n",
    "        \n",
    "    def forward(self, x):\n",
    "        # rescale to [-1, 1]\n",
    "        x = x.float() / ((self.color_cats-1)/2) - 1\n",
    "        logits = self.sequential(x)\n",
    "        h, w, c = self.image_shape\n",
    "        logits = logits.view(-1, self.color_cats, c, h, w)\n",
    "        return logits\n",
    "        \n",
    "    def loss_function(self, preds, target):\n",
    "        loss = self.loss_func(preds, target.long())\n",
    "        loss = torch.sum(loss, (3, 2, 1))\n",
    "        loss = loss.mean(dim=0)\n",
    "        return loss\n",
    "    \n",
    "    def sampling(self, size):\n",
    "        start_time = time.time()\n",
    "        print(f'Begin sampling')\n",
    "        self.eval()\n",
    "        with torch.no_grad():\n",
    "            sample = torch.ones(size, *self.image_shape)\n",
    "            sample = sample.permute(0, 3, 1, 2)\n",
    "            if next(self.parameters()).is_cuda:\n",
    "                sample = sample.cuda()\n",
    "            for i in range(self.image_shape[0]):\n",
    "                for j in range(self.image_shape[1]):\n",
    "                    for c in range(self.image_shape[2]):\n",
    "                        logits = self(sample)[:, :, c, i, j]\n",
    "                        lsm = F.softmax(logits, dim=1)\n",
    "                        sample[:, c, i, j] = torch.multinomial(lsm, num_samples=1).squeeze(-1)\n",
    "                print(f'Sampled row {i}')\n",
    "            images = sample.permute(0, 2, 3, 1)\n",
    "            print(images.shape)\n",
    "        end_time = time.time()\n",
    "        elapsed = end_time - start_time\n",
    "        print(f'End sampling, elapsed {elapsed}')\n",
    "        return images"
   ]
  },
  {
   "cell_type": "code",
   "execution_count": 12,
   "metadata": {
    "colab": {},
    "colab_type": "code",
    "id": "kqzuSDBUK3dL"
   },
   "outputs": [],
   "source": [
    "def q3_c(train_data, test_data, image_shape, dset_id):\n",
    "    \"\"\"\n",
    "    train_data: A (n_train, H, W, C) uint8 numpy array of color images with values in {0, 1, 2, 3}\n",
    "    test_data: A (n_test, H, W, C) uint8 numpy array of color images with values in {0, 1, 2, 3}\n",
    "    image_shape: (H, W, C), height, width, and # of channels of the image\n",
    "    dset_id: An identifying number of which dataset is given (1 or 2). Most likely\n",
    "           used to set different hyperparameters for different datasets\n",
    "\n",
    "    Returns\n",
    "    - a (# of training iterations,) numpy array of train_losses evaluated every minibatch\n",
    "    - a (# of epochs + 1,) numpy array of test_losses evaluated once at initialization and after each epoch\n",
    "    - a numpy array of size (100, H, W, C) of samples with values in {0, 1, 2, 3}\n",
    "    \"\"\"\n",
    "\n",
    "    \"\"\" YOUR CODE HERE \"\"\"\n",
    "    train_data = np.transpose(train_data, (0, 3, 1, 2))\n",
    "    test_data = np.transpose(test_data, (0, 3, 1, 2))\n",
    "#     train_data = train_data[:12, :, :5, :5]\n",
    "#     test_data = test_data[:12, :, :5, :5]\n",
    "#     image_shape = (5, 5, 3)\n",
    "\n",
    "    DEVICE = torch.device('cuda')\n",
    "    train_loader, test_loader = get_loaders(train_data, test_data, bs=128)\n",
    "    model = PixelCNN((image_shape), color_cats=4, filters=120).to(DEVICE)\n",
    "    optim_algo = torch.optim.Adam\n",
    "    nll_train, nll_test = training(\n",
    "        train_loader, test_loader,\n",
    "        model, optim_algo, learn_rate=0.001, device=DEVICE, epochs=15)\n",
    "    npixels = np.prod(np.array(image_shape))\n",
    "    nll_train = np.array(nll_train) / npixels\n",
    "    nll_test = np.array(nll_test) / npixels\n",
    "    sample = model.sampling(100).cpu().numpy()\n",
    "    return nll_train, nll_test, sample"
   ]
  },
  {
   "cell_type": "markdown",
   "metadata": {
    "colab_type": "text",
    "id": "UTB-VUBnK321"
   },
   "source": [
    "### Results\n",
    "\n",
    "Once you've implemented `q3_c`, execute the cells below to visualize and save your results\n",
    "\n"
   ]
  },
  {
   "cell_type": "code",
   "execution_count": 13,
   "metadata": {
    "colab": {
     "base_uri": "https://localhost:8080/",
     "height": 577
    },
    "colab_type": "code",
    "id": "TXxpdINJK4NU",
    "outputId": "904a8d40-d0e7-40bb-d13b-32c1a49298b2"
   },
   "outputs": [
    {
     "name": "stdout",
     "output_type": "stream",
     "text": [
      "Epoch 0 loss train: 702.423583984375, test: 693.8665161132812\n",
      "Epoch 1 loss train: 309.0142822265625, test: 310.3863525390625\n",
      "Epoch 2 loss train: 157.17575073242188, test: 152.79629516601562\n",
      "Epoch 3 loss train: 90.3757095336914, test: 91.42279052734375\n",
      "Epoch 4 loss train: 60.52040481567383, test: 62.207096099853516\n",
      "Epoch 5 loss train: 45.16044616699219, test: 45.439170837402344\n",
      "Epoch 6 loss train: 36.218536376953125, test: 35.19184875488281\n",
      "Epoch 7 loss train: 29.84058380126953, test: 28.924455642700195\n",
      "Epoch 8 loss train: 23.73752212524414, test: 23.340290069580078\n",
      "Epoch 9 loss train: 19.424409866333008, test: 19.670879364013672\n",
      "Epoch 10 loss train: 16.911354064941406, test: 17.219038009643555\n",
      "Epoch 11 loss train: 32.552433013916016, test: 32.105262756347656\n",
      "Epoch 12 loss train: 18.115413665771484, test: 17.659666061401367\n",
      "Epoch 13 loss train: 14.48501968383789, test: 13.96119499206543\n",
      "Epoch 14 loss train: 11.263371467590332, test: 11.947700500488281\n",
      "Begin sampling\n",
      "Sampled row 0\n",
      "Sampled row 1\n",
      "Sampled row 2\n",
      "Sampled row 3\n",
      "Sampled row 4\n",
      "Sampled row 5\n",
      "Sampled row 6\n",
      "Sampled row 7\n",
      "Sampled row 8\n",
      "Sampled row 9\n",
      "Sampled row 10\n",
      "Sampled row 11\n",
      "Sampled row 12\n",
      "Sampled row 13\n",
      "Sampled row 14\n",
      "Sampled row 15\n",
      "Sampled row 16\n",
      "Sampled row 17\n",
      "Sampled row 18\n",
      "Sampled row 19\n",
      "torch.Size([100, 20, 20, 3])\n",
      "End sampling, elapsed 272.84754490852356\n",
      "Final Test Loss: 0.0100\n"
     ]
    },
    {
     "data": {
      "image/png": "[encoded data removed]",
      "text/plain": [
       "<Figure size 432x288 with 1 Axes>"
      ]
     },
     "metadata": {
      "needs_background": "light"
     },
     "output_type": "display_data"
    },
    {
     "data": {
      "image/png": "[encoded data removed]",
      "text/plain": [
       "<Figure size 432x288 with 1 Axes>"
      ]
     },
     "metadata": {
      "needs_background": "light"
     },
     "output_type": "display_data"
    }
   ],
   "source": [
    "model = q3bc_save_results(1, 'c', q3_c)"
   ]
  },
  {
   "cell_type": "code",
   "execution_count": 7,
   "metadata": {},
   "outputs": [
    {
     "name": "stdout",
     "output_type": "stream",
     "text": [
      "Epoch 0 loss train: 106.70381927490234, test: 99.67224884033203\n",
      "Epoch 1 loss train: 98.95364379882812, test: 94.03528594970703\n",
      "Epoch 2 loss train: 93.23410034179688, test: 89.4729232788086\n",
      "Begin sampling\n",
      "Sampled row 0\n",
      "Sampled row 1\n",
      "Sampled row 2\n",
      "Sampled row 3\n",
      "Sampled row 4\n",
      "torch.Size([100, 5, 5, 3])\n",
      "End sampling, elapsed 3.462059736251831\n",
      "Final Test Loss: 1.1930\n"
     ]
    },
    {
     "data": {
      "image/png": "[encoded data removed]",
      "text/plain": [
       "<Figure size 432x288 with 1 Axes>"
      ]
     },
     "metadata": {
      "needs_background": "light"
     },
     "output_type": "display_data"
    },
    {
     "data": {
      "image/png": "[encoded data removed]",
      "text/plain": [
       "<Figure size 432x288 with 1 Axes>"
      ]
     },
     "metadata": {
      "needs_background": "light"
     },
     "output_type": "display_data"
    }
   ],
   "source": [
    "q3bc_save_results(2, 'c', q3_c)"
   ]
  }
 ],
 "metadata": {
  "accelerator": "GPU",
  "colab": {
   "collapsed_sections": [],
   "include_colab_link": true,
   "name": "Copy of Homework 1 Autoregressive Models.ipynb",
   "provenance": [],
   "toc_visible": true
  },
  "kernelspec": {
   "display_name": "Python 3",
   "language": "python",
   "name": "python3"
  },
  "language_info": {
   "codemirror_mode": {
    "name": "ipython",
    "version": 3
   },
   "file_extension": ".py",
   "mimetype": "text/x-python",
   "name": "python",
   "nbconvert_exporter": "python",
   "pygments_lexer": "ipython3",
   "version": "3.8.2"
  },
  "varInspector": {
   "cols": {
    "lenName": 16,
    "lenType": 16,
    "lenVar": "5"
   },
   "kernels_config": {
    "python": {
     "delete_cmd_postfix": "",
     "delete_cmd_prefix": "del ",
     "library": "var_list.py",
     "varRefreshCmd": "print(var_dic_list())"
    },
    "r": {
     "delete_cmd_postfix": ") ",
     "delete_cmd_prefix": "rm(",
     "library": "var_list.r",
     "varRefreshCmd": "cat(var_dic_list()) "
    }
   },
   "types_to_exclude": [
    "module",
    "function",
    "builtin_function_or_method",
    "instance",
    "_Feature"
   ],
   "window_display": false
  }
 },
 "nbformat": 4,
 "nbformat_minor": 1
}
