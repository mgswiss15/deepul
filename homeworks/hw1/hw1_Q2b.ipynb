{
 "cells": [
  {
   "cell_type": "markdown",
   "metadata": {
    "colab_type": "text",
    "id": "view-in-github"
   },
   "source": [
    "<a href=\"https://colab.research.google.com/github/rll/deepul/blob/master/homeworks/hw1/hw1_notebook.ipynb\" target=\"_parent\"><img src=\"https://colab.research.google.com/assets/colab-badge.svg\" alt=\"Open In Colab\"/></a>"
   ]
  },
  {
   "cell_type": "markdown",
   "metadata": {
    "colab_type": "text",
    "id": "Rdy1FtrRpGcC"
   },
   "source": [
    "# Getting Started\n",
    "\n",
    "## Overview\n",
    "This semester, all homeworks will be conducted through Google Colab notebooks. All code for the homework assignment will be written and run in this notebook. Running in Colab will automatically provide a GPU, but you may also run this notebook locally by following [these instructions](https://research.google.com/colaboratory/local-runtimes.html) if you wish to use your own GPU.\n",
    "\n",
    "You will save images in the notebooks to use and fill out a given LaTeX template which will be submitted to Gradescope, along with your notebook code.\n",
    "\n",
    "## Using Colab\n",
    "On the left-hand side, you can click the different icons to see a Table of Contents of the assignment, as well as local files accessible through the notebook.\n",
    "\n",
    "Make sure to go to **Runtime -> Change runtime type** and select **GPU** as the hardware accelerator. This allows you to use a GPU. Run the cells below to get started on the assignment. Note that a session is open for a maximum of 12 hours, and using too much GPU compute may result in restricted access for a short period of time. Please start the homework early so you have ample time to work.\n",
    "\n",
    "**If you loaded this notebook from clicking \"Open in Colab\" from github, you will need to save it to your own Google Drive to keep your work.**\n",
    "\n",
    "## General Tips\n",
    "In each homework problem, you will implement an autoregressive model and run it on two datasets (dataset 1 and dataset 2). The expected outputs for dataset 1 are already provided to help as a sanity check.\n",
    "\n",
    "Feel free to print whatever output (e.g. debugging code, training code, etc) you want, as the graded submission will be the submitted pdf with images.\n",
    "\n",
    "After you complete the assignment, download all of the image outputted in the results/ folder and upload them to the figure folder in the given latex template.\n",
    "\n",
    "Run the cells below to download and load up the starter code."
   ]
  },
  {
   "cell_type": "code",
   "execution_count": 1,
   "metadata": {
    "colab": {},
    "colab_type": "code",
    "id": "wUVy2glDtoaR"
   },
   "outputs": [],
   "source": [
    "try:\n",
    "    import google.colab\n",
    "    IN_COLAB = True\n",
    "except:\n",
    "    IN_COLAB = False"
   ]
  },
  {
   "cell_type": "code",
   "execution_count": 2,
   "metadata": {
    "colab": {},
    "colab_type": "code",
    "id": "wUVy2glDtoaR"
   },
   "outputs": [],
   "source": [
    "if IN_COLAB:\n",
    "    !if [ -d deepul ]; then rm -Rf deepul; fi\n",
    "    !git clone https://github.com/mgswiss15/deepul.git \n",
    "    !git checkout magda\n",
    "    !unzip -qq deepul/homeworks/hw1/data/hw1_data.zip -d deepul/homeworks/hw1/data/\n",
    "    !pip install ./deepul"
   ]
  },
  {
   "cell_type": "code",
   "execution_count": 3,
   "metadata": {},
   "outputs": [],
   "source": [
    "%load_ext autoreload\n",
    "%autoreload 2"
   ]
  },
  {
   "cell_type": "code",
   "execution_count": 4,
   "metadata": {},
   "outputs": [
    {
     "name": "stdout",
     "output_type": "stream",
     "text": [
      "/home/magda/Github/deepul/homeworks\n",
      "['/home/magda/Github/deepul/homeworks/hw1', '/home/magda/anaconda3/envs/pytorch/lib/python38.zip', '/home/magda/anaconda3/envs/pytorch/lib/python3.8', '/home/magda/anaconda3/envs/pytorch/lib/python3.8/lib-dynload', '', '/home/magda/anaconda3/envs/pytorch/lib/python3.8/site-packages', '/home/magda/anaconda3/envs/pytorch/lib/python3.8/site-packages/IPython/extensions', '/home/magda/.ipython', '/home/magda/Github/deepul/homeworks']\n"
     ]
    }
   ],
   "source": [
    "import sys\n",
    "import pathlib\n",
    "cwd = pathlib.Path().absolute()\n",
    "print(cwd.parents[0])\n",
    "sys.path.append(str(cwd.parents[0]))\n",
    "print(sys.path)"
   ]
  },
  {
   "cell_type": "code",
   "execution_count": 5,
   "metadata": {
    "colab": {},
    "colab_type": "code",
    "id": "ZHWosWrbpO5Y"
   },
   "outputs": [],
   "source": [
    "from hw1_helper import *"
   ]
  },
  {
   "cell_type": "markdown",
   "metadata": {
    "colab_type": "text",
    "id": "bk6l6G30tEIg"
   },
   "source": [
    "# Question 2: MADE\n",
    "\n",
    "In this question, you will implement [MADE](https://arxiv.org/abs/1502.03509). In the first part, you will use MADE to model a simple 2D joint distribution, and in the second half, you will train MADE on image datasets."
   ]
  },
  {
   "cell_type": "markdown",
   "metadata": {
    "colab_type": "text",
    "id": "G4HezJRtW7H2"
   },
   "source": [
    "## Part (b) Shapes and MNIST\n",
    "Now, we will work with a higher dimensional datasets, namely a shape dataset and MNIST. Run the cell below to visualize the two datasets"
   ]
  },
  {
   "cell_type": "code",
   "execution_count": 6,
   "metadata": {
    "colab": {},
    "colab_type": "code",
    "id": "F81U6yR1UUVq"
   },
   "outputs": [
    {
     "data": {
      "image/png": "[encoded data removed]",
      "text/plain": [
       "<Figure size 432x288 with 1 Axes>"
      ]
     },
     "metadata": {
      "needs_background": "light"
     },
     "output_type": "display_data"
    },
    {
     "data": {
      "image/png": "[encoded data removed]",
      "text/plain": [
       "<Figure size 432x288 with 1 Axes>"
      ]
     },
     "metadata": {
      "needs_background": "light"
     },
     "output_type": "display_data"
    }
   ],
   "source": [
    "visualize_q2b_data(1)\n",
    "visualize_q2b_data(2)"
   ]
  },
  {
   "cell_type": "markdown",
   "metadata": {
    "colab_type": "text",
    "id": "qrJPvrYhUZYO"
   },
   "source": [
    "Implement and train a MADE model on the given binary image datasets. Given some binary image of height $H$ and width $W$, we can represent image $x\\in \\{0, 1\\}^{H\\times W}$ as a flattened binary vector $x\\in \\{0, 1\\}^{HW}$ to input into MADE to model $p_\\theta(x) = \\prod_{i=1}^{HW} p_\\theta(x_i|x_{<i})$. Your model should output logits, after which you could apply a sigmoid over 1 logit, or a softmax over two logits (either is fine).\n",
    "\n",
    "**You will provide these deliverables**\n",
    "\n",
    "\n",
    "1.   Over the course of training, record the average negative log-likelihood (nats / dim) of the training data (per minibatch) and test data (for your entire test set). Code is provided that automatically plots the training curves. \n",
    "2.   Report the final test set performance of your final model\n",
    "3. 100 samples from the final trained model"
   ]
  },
  {
   "cell_type": "markdown",
   "metadata": {
    "colab_type": "text",
    "id": "uEgF3FCXV8zb"
   },
   "source": [
    "### Solution\n",
    "Fill out the function below and return the necessary arguments. Feel free to create more cells if need be."
   ]
  },
  {
   "cell_type": "code",
   "execution_count": 7,
   "metadata": {},
   "outputs": [],
   "source": [
    "from exp_utils import *\n",
    "import math\n",
    "\n",
    "class MaskedLinear(nn.Linear):\n",
    "    def __init__(self, in_feat, out_feat, px_dim, prev_mk):\n",
    "        super(MaskedLinear, self).__init__(in_feat, out_feat, bias=True)\n",
    "        self.mask = nn.Parameter(torch.zeros(out_feat, in_feat), requires_grad=False)\n",
    "#         self.mask = torch.zeros(out_feat, in_feat)\n",
    "        prev_min = prev_mk.min().int()\n",
    "        self.mk = torch.randint(prev_min, px_dim, (out_feat,))\n",
    "        for outidx in range(out_feat):\n",
    "            for inidx in range(in_feat):\n",
    "                if self.mk[outidx] >= prev_mk[inidx]:\n",
    "                    self.mask[outidx, inidx] = 1.\n",
    "                \n",
    "    def forward(self, x):\n",
    "        return F.linear(x, self.weight * self.mask, self.bias)\n",
    "\n",
    "\n",
    "class MaskedLinearOut(nn.Linear):\n",
    "    def __init__(self, in_feat, out_feat, px_dim, prev_mk):\n",
    "        super(MaskedLinearOut, self).__init__(in_feat, out_feat, bias=True)\n",
    "        self.mask = nn.Parameter(torch.zeros(out_feat, in_feat), requires_grad=False)\n",
    "#         self.mask = torch.zeros(out_feat, in_feat)\n",
    "        self.mk = (torch.arange(px_dim)+1)\n",
    "        for outidx in range(out_feat):\n",
    "            for inidx in range(in_feat):\n",
    "                if self.mk[outidx] > prev_mk[inidx]:\n",
    "                    self.mask[outidx, inidx] = 1.\n",
    "                \n",
    "    def forward(self, x):\n",
    "        return F.linear(x, self.weight * self.mask, self.bias)\n",
    "\n",
    "class Made(nn.Module):\n",
    "    def __init__(self, image_shape, hidden=[512, 512, 512]):\n",
    "        super(Made, self).__init__()\n",
    "        self.image_shape = image_shape\n",
    "        self.px_dim = math.prod(image_shape)\n",
    "        layers = []\n",
    "        dims = [self.px_dim] + hidden\n",
    "        prev_mk = (torch.arange(self.px_dim)+1)\n",
    "        for idx in range(len(dims)-1):\n",
    "            layers.append(MaskedLinear(dims[idx], dims[idx+1], self.px_dim, prev_mk))\n",
    "            prev_mk = layers[-1].mk\n",
    "            layers.append(nn.ReLU())\n",
    "        layers.append(MaskedLinearOut(dims[-1], dims[0], self.px_dim, prev_mk))\n",
    "        self.sequential = nn.Sequential(*layers)\n",
    "        self.loss_func = nn.BCEWithLogitsLoss(reduction='none')\n",
    "        \n",
    "    def forward(self, x):\n",
    "        logits = self.sequential(x.float())\n",
    "        return logits\n",
    "        \n",
    "    def loss_function(self, preds, targets):\n",
    "        loss = self.loss_func(preds, targets.float()).sum(dim=1).mean(dim=0)\n",
    "        return loss\n",
    "    \n",
    "    def sampling(self, size):\n",
    "        print('begin sampling')\n",
    "        self.eval()\n",
    "        with torch.no_grad():\n",
    "            sample = torch.ones(size, self.px_dim)\n",
    "            if next(self.parameters()).is_cuda:\n",
    "                sample = sample.cuda()\n",
    "            for i in range(self.px_dim):\n",
    "                logits = self.forward(sample)\n",
    "                sample[:,i] = torch.bernoulli(torch.sigmoid(logits[:,i]))\n",
    "            images = sample.view(-1, self.image_shape[0], self.image_shape[1], 1)\n",
    "        return images\n",
    "                "
   ]
  },
  {
   "cell_type": "code",
   "execution_count": 8,
   "metadata": {
    "colab": {},
    "colab_type": "code",
    "id": "WHLjAxjRVx_S"
   },
   "outputs": [],
   "source": [
    "import math\n",
    "def q2_b(train_data, test_data, image_shape, dset_id):\n",
    "    \"\"\"\n",
    "    train_data: A (n_train, H, W, 1) uint8 numpy array of binary images with values in {0, 1}\n",
    "    test_data: An (n_test, H, W, 1) uint8 numpy array of binary images with values in {0, 1}\n",
    "    image_shape: (H, W), height and width of the image\n",
    "    dset_id: An identifying number of which dataset is given (1 or 2). Most likely\n",
    "           used to set different hyperparameters for different datasets\n",
    "\n",
    "    Returns\n",
    "    - a (# of training iterations,) numpy array of train_losses evaluated every minibatch\n",
    "    - a (# of epochs + 1,) numpy array of test_losses evaluated once at initialization and after each epoch\n",
    "    - a numpy array of size (100, H, W, 1) of samples with values in {0, 1}\n",
    "    \"\"\"\n",
    "\n",
    "    \"\"\" YOUR CODE HERE \"\"\"\n",
    "    train_data = np.reshape(train_data, (-1, math.prod(image_shape)))\n",
    "    test_data = np.reshape(test_data, (-1, math.prod(image_shape)))\n",
    "\n",
    "    \n",
    "    DEVICE = torch.device('cuda')\n",
    "    train_loader, test_loader = get_loaders(train_data, test_data, bs=128)\n",
    "    model = Made((image_shape), [512, 512]).to(DEVICE)\n",
    "    adam_optim = torch.optim.Adam\n",
    "    nll_train, nll_test = training(\n",
    "        train_loader, test_loader,\n",
    "        model, adam_optim, learn_rate=0.001, device=DEVICE, epochs=20)\n",
    "#     breakpoint()\n",
    "    return nll_train, nll_test, model.sampling(100).cpu().numpy()"
   ]
  },
  {
   "cell_type": "markdown",
   "metadata": {
    "colab_type": "text",
    "id": "iBfCSKFnV-Mz"
   },
   "source": [
    "### Results\n",
    "\n",
    "Once you've implemented `q2_b`, execute the cells below to visualize and save your results\n",
    "\n"
   ]
  },
  {
   "cell_type": "code",
   "execution_count": 9,
   "metadata": {
    "colab": {
     "base_uri": "https://localhost:8080/",
     "height": 577
    },
    "colab_type": "code",
    "id": "frAYhilEwG2x",
    "outputId": "6f1db009-bf76-42f7-e9d8-af55239bc5b2",
    "run_control": {
     "marked": false
    }
   },
   "outputs": [
    {
     "name": "stdout",
     "output_type": "stream",
     "text": [
      "Epoch 0 loss train: 73.99867248535156, test: 74.446533203125\n",
      "Epoch 1 loss train: 60.45716857910156, test: 59.628658294677734\n",
      "Epoch 2 loss train: 52.36808776855469, test: 51.65623092651367\n",
      "Epoch 3 loss train: 48.01506042480469, test: 47.34516143798828\n",
      "Epoch 4 loss train: 40.8814582824707, test: 43.67152404785156\n",
      "Epoch 5 loss train: 42.736087799072266, test: 40.85203552246094\n",
      "Epoch 6 loss train: 38.57990264892578, test: 38.80786895751953\n",
      "Epoch 7 loss train: 35.619319915771484, test: 37.04262924194336\n",
      "Epoch 8 loss train: 33.63517379760742, test: 35.06816482543945\n",
      "Epoch 9 loss train: 34.384342193603516, test: 33.43761444091797\n",
      "Epoch 10 loss train: 29.797271728515625, test: 32.19630813598633\n",
      "Epoch 11 loss train: 31.660486221313477, test: 31.194719314575195\n",
      "Epoch 12 loss train: 30.346820831298828, test: 30.314455032348633\n",
      "Epoch 13 loss train: 28.39349365234375, test: 29.663043975830078\n",
      "Epoch 14 loss train: 27.76577377319336, test: 28.780120849609375\n",
      "Epoch 15 loss train: 28.646087646484375, test: 28.080324172973633\n",
      "Epoch 16 loss train: 26.337949752807617, test: 27.54962921142578\n",
      "Epoch 17 loss train: 26.23758888244629, test: 26.9271240234375\n",
      "Epoch 18 loss train: 24.24099349975586, test: 26.603904724121094\n",
      "Epoch 19 loss train: 26.104114532470703, test: 26.13126564025879\n",
      "begin sampling\n",
      "Final Test Loss: 26.1313\n"
     ]
    },
    {
     "data": {
      "image/png": "[encoded data removed]",
      "text/plain": [
       "<Figure size 432x288 with 1 Axes>"
      ]
     },
     "metadata": {
      "needs_background": "light"
     },
     "output_type": "display_data"
    },
    {
     "data": {
      "image/png": "[encoded data removed]",
      "text/plain": [
       "<Figure size 432x288 with 1 Axes>"
      ]
     },
     "metadata": {
      "needs_background": "light"
     },
     "output_type": "display_data"
    }
   ],
   "source": [
    "q2_save_results(1, 'b', q2_b)"
   ]
  },
  {
   "cell_type": "code",
   "execution_count": 10,
   "metadata": {
    "colab": {},
    "colab_type": "code",
    "id": "B5nBFeI7wJeN"
   },
   "outputs": [
    {
     "name": "stdout",
     "output_type": "stream",
     "text": [
      "Epoch 0 loss train: 160.69046020507812, test: 155.89859008789062\n",
      "Epoch 1 loss train: 128.83352661132812, test: 126.07485961914062\n",
      "Epoch 2 loss train: 111.73081970214844, test: 111.9501953125\n",
      "Epoch 3 loss train: 108.86236572265625, test: 104.91542053222656\n",
      "Epoch 4 loss train: 101.71345520019531, test: 100.52861785888672\n",
      "Epoch 5 loss train: 103.49568939208984, test: 97.59365844726562\n",
      "Epoch 6 loss train: 97.93211364746094, test: 95.48503875732422\n",
      "Epoch 7 loss train: 102.44187927246094, test: 93.90746307373047\n",
      "Epoch 8 loss train: 88.89994812011719, test: 92.83601379394531\n",
      "Epoch 9 loss train: 96.46305847167969, test: 91.93867492675781\n",
      "Epoch 10 loss train: 91.0279541015625, test: 91.14454650878906\n",
      "Epoch 11 loss train: 92.2295150756836, test: 90.48819732666016\n",
      "Epoch 12 loss train: 87.2453842163086, test: 89.58407592773438\n",
      "Epoch 13 loss train: 83.58084106445312, test: 89.27989196777344\n",
      "Epoch 14 loss train: 89.19221496582031, test: 88.62007141113281\n",
      "Epoch 15 loss train: 91.56443786621094, test: 88.29841613769531\n",
      "Epoch 16 loss train: 82.06255340576172, test: 87.9692153930664\n",
      "Epoch 17 loss train: 87.20530700683594, test: 87.7967300415039\n",
      "Epoch 18 loss train: 85.69261169433594, test: 87.44099426269531\n",
      "Epoch 19 loss train: 84.09394073486328, test: 87.22590637207031\n",
      "begin sampling\n",
      "Final Test Loss: 87.2259\n"
     ]
    },
    {
     "data": {
      "image/png": "[encoded data removed]",
      "text/plain": [
       "<Figure size 432x288 with 1 Axes>"
      ]
     },
     "metadata": {
      "needs_background": "light"
     },
     "output_type": "display_data"
    },
    {
     "data": {
      "image/png": "[encoded data removed]",
      "text/plain": [
       "<Figure size 432x288 with 1 Axes>"
      ]
     },
     "metadata": {
      "needs_background": "light"
     },
     "output_type": "display_data"
    }
   ],
   "source": [
    "q2_save_results(2, 'b', q2_b)"
   ]
  }
 ],
 "metadata": {
  "accelerator": "GPU",
  "colab": {
   "collapsed_sections": [],
   "include_colab_link": true,
   "name": "Copy of Homework 1 Autoregressive Models.ipynb",
   "provenance": [],
   "toc_visible": true
  },
  "kernelspec": {
   "display_name": "Python 3",
   "language": "python",
   "name": "python3"
  },
  "language_info": {
   "codemirror_mode": {
    "name": "ipython",
    "version": 3
   },
   "file_extension": ".py",
   "mimetype": "text/x-python",
   "name": "python",
   "nbconvert_exporter": "python",
   "pygments_lexer": "ipython3",
   "version": "3.8.2"
  },
  "varInspector": {
   "cols": {
    "lenName": 16,
    "lenType": 16,
    "lenVar": "5"
   },
   "kernels_config": {
    "python": {
     "delete_cmd_postfix": "",
     "delete_cmd_prefix": "del ",
     "library": "var_list.py",
     "varRefreshCmd": "print(var_dic_list())"
    },
    "r": {
     "delete_cmd_postfix": ") ",
     "delete_cmd_prefix": "rm(",
     "library": "var_list.r",
     "varRefreshCmd": "cat(var_dic_list()) "
    }
   },
   "types_to_exclude": [
    "module",
    "function",
    "builtin_function_or_method",
    "instance",
    "_Feature"
   ],
   "window_display": false
  }
 },
 "nbformat": 4,
 "nbformat_minor": 1
}
