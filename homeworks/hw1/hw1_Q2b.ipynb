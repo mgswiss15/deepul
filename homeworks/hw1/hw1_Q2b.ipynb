{
 "cells": [
  {
   "cell_type": "markdown",
   "metadata": {
    "colab_type": "text",
    "id": "view-in-github"
   },
   "source": [
    "<a href=\"https://colab.research.google.com/github/rll/deepul/blob/master/homeworks/hw1/hw1_notebook.ipynb\" target=\"_parent\"><img src=\"https://colab.research.google.com/assets/colab-badge.svg\" alt=\"Open In Colab\"/></a>"
   ]
  },
  {
   "cell_type": "markdown",
   "metadata": {
    "colab_type": "text",
    "id": "Rdy1FtrRpGcC"
   },
   "source": [
    "# Getting Started\n",
    "\n",
    "## Overview\n",
    "This semester, all homeworks will be conducted through Google Colab notebooks. All code for the homework assignment will be written and run in this notebook. Running in Colab will automatically provide a GPU, but you may also run this notebook locally by following [these instructions](https://research.google.com/colaboratory/local-runtimes.html) if you wish to use your own GPU.\n",
    "\n",
    "You will save images in the notebooks to use and fill out a given LaTeX template which will be submitted to Gradescope, along with your notebook code.\n",
    "\n",
    "## Using Colab\n",
    "On the left-hand side, you can click the different icons to see a Table of Contents of the assignment, as well as local files accessible through the notebook.\n",
    "\n",
    "Make sure to go to **Runtime -> Change runtime type** and select **GPU** as the hardware accelerator. This allows you to use a GPU. Run the cells below to get started on the assignment. Note that a session is open for a maximum of 12 hours, and using too much GPU compute may result in restricted access for a short period of time. Please start the homework early so you have ample time to work.\n",
    "\n",
    "**If you loaded this notebook from clicking \"Open in Colab\" from github, you will need to save it to your own Google Drive to keep your work.**\n",
    "\n",
    "## General Tips\n",
    "In each homework problem, you will implement an autoregressive model and run it on two datasets (dataset 1 and dataset 2). The expected outputs for dataset 1 are already provided to help as a sanity check.\n",
    "\n",
    "Feel free to print whatever output (e.g. debugging code, training code, etc) you want, as the graded submission will be the submitted pdf with images.\n",
    "\n",
    "After you complete the assignment, download all of the image outputted in the results/ folder and upload them to the figure folder in the given latex template.\n",
    "\n",
    "Run the cells below to download and load up the starter code."
   ]
  },
  {
   "cell_type": "code",
   "execution_count": 1,
   "metadata": {
    "colab": {},
    "colab_type": "code",
    "id": "wUVy2glDtoaR"
   },
   "outputs": [],
   "source": [
    "# !if [ -d deepul ]; then rm -Rf deepul; fi\n",
    "# !git clone https://github.com/rll/deepul.git \n",
    "# !unzip -qq deepul/homeworks/hw1/data/hw1_data.zip -d deepul/homeworks/hw1/data/\n",
    "# !pip install ./deepul"
   ]
  },
  {
   "cell_type": "code",
   "execution_count": 2,
   "metadata": {},
   "outputs": [],
   "source": [
    "%load_ext autoreload\n",
    "%autoreload 2"
   ]
  },
  {
   "cell_type": "code",
   "execution_count": 3,
   "metadata": {},
   "outputs": [
    {
     "name": "stdout",
     "output_type": "stream",
     "text": [
      "['/home/magda/Github/deepul/homeworks/hw1', '/home/magda/anaconda3/envs/pytorch/lib/python38.zip', '/home/magda/anaconda3/envs/pytorch/lib/python3.8', '/home/magda/anaconda3/envs/pytorch/lib/python3.8/lib-dynload', '', '/home/magda/anaconda3/envs/pytorch/lib/python3.8/site-packages', '/home/magda/anaconda3/envs/pytorch/lib/python3.8/site-packages/IPython/extensions', '/home/magda/.ipython', '/home/magda/Github/deepul']\n"
     ]
    }
   ],
   "source": [
    "import sys\n",
    "sys.path.append('/home/magda/Github/deepul')\n",
    "print(sys.path)"
   ]
  },
  {
   "cell_type": "code",
   "execution_count": 4,
   "metadata": {
    "colab": {},
    "colab_type": "code",
    "id": "ZHWosWrbpO5Y"
   },
   "outputs": [],
   "source": [
    "from deepul.hw1_helper import *"
   ]
  },
  {
   "cell_type": "markdown",
   "metadata": {
    "colab_type": "text",
    "id": "bk6l6G30tEIg"
   },
   "source": [
    "# Question 2: MADE\n",
    "\n",
    "In this question, you will implement [MADE](https://arxiv.org/abs/1502.03509). In the first part, you will use MADE to model a simple 2D joint distribution, and in the second half, you will train MADE on image datasets."
   ]
  },
  {
   "cell_type": "markdown",
   "metadata": {
    "colab_type": "text",
    "id": "G4HezJRtW7H2"
   },
   "source": [
    "## Part (b) Shapes and MNIST\n",
    "Now, we will work with a higher dimensional datasets, namely a shape dataset and MNIST. Run the cell below to visualize the two datasets"
   ]
  },
  {
   "cell_type": "code",
   "execution_count": 5,
   "metadata": {
    "colab": {},
    "colab_type": "code",
    "id": "F81U6yR1UUVq"
   },
   "outputs": [
    {
     "data": {
      "image/png": "[encoded data removed]",
      "text/plain": [
       "<Figure size 432x288 with 1 Axes>"
      ]
     },
     "metadata": {
      "needs_background": "light"
     },
     "output_type": "display_data"
    },
    {
     "data": {
      "image/png": "[encoded data removed]",
      "text/plain": [
       "<Figure size 432x288 with 1 Axes>"
      ]
     },
     "metadata": {
      "needs_background": "light"
     },
     "output_type": "display_data"
    }
   ],
   "source": [
    "visualize_q2b_data(1)\n",
    "visualize_q2b_data(2)"
   ]
  },
  {
   "cell_type": "markdown",
   "metadata": {
    "colab_type": "text",
    "id": "qrJPvrYhUZYO"
   },
   "source": [
    "Implement and train a MADE model on the given binary image datasets. Given some binary image of height $H$ and width $W$, we can represent image $x\\in \\{0, 1\\}^{H\\times W}$ as a flattened binary vector $x\\in \\{0, 1\\}^{HW}$ to input into MADE to model $p_\\theta(x) = \\prod_{i=1}^{HW} p_\\theta(x_i|x_{<i})$. Your model should output logits, after which you could apply a sigmoid over 1 logit, or a softmax over two logits (either is fine).\n",
    "\n",
    "**You will provide these deliverables**\n",
    "\n",
    "\n",
    "1.   Over the course of training, record the average negative log-likelihood (nats / dim) of the training data (per minibatch) and test data (for your entire test set). Code is provided that automatically plots the training curves. \n",
    "2.   Report the final test set performance of your final model\n",
    "3. 100 samples from the final trained model"
   ]
  },
  {
   "cell_type": "markdown",
   "metadata": {
    "colab_type": "text",
    "id": "uEgF3FCXV8zb"
   },
   "source": [
    "### Solution\n",
    "Fill out the function below and return the necessary arguments. Feel free to create more cells if need be."
   ]
  },
  {
   "cell_type": "code",
   "execution_count": 6,
   "metadata": {},
   "outputs": [],
   "source": [
    "from exp_utils import *\n",
    "import math\n",
    "\n",
    "class MaskedLinear(nn.Linear):\n",
    "    def __init__(self, in_feat, out_feat, px_dim, prev_mk):\n",
    "        super(MaskedLinear, self).__init__(in_feat, out_feat, bias=True)\n",
    "        self.mask = nn.Parameter(torch.zeros(out_feat, in_feat), requires_grad=False)\n",
    "#         self.mask = torch.zeros(out_feat, in_feat)\n",
    "        prev_min = prev_mk.min().int()\n",
    "        self.mk = torch.randint(prev_min, px_dim, (out_feat,))\n",
    "        for outidx in range(out_feat):\n",
    "            for inidx in range(in_feat):\n",
    "                if self.mk[outidx] >= prev_mk[inidx]:\n",
    "                    self.mask[outidx, inidx] = 1.\n",
    "                \n",
    "    def forward(self, x):\n",
    "        return F.linear(x, self.weight * self.mask, self.bias)\n",
    "\n",
    "\n",
    "class MaskedLinearOut(nn.Linear):\n",
    "    def __init__(self, in_feat, out_feat, px_dim, prev_mk):\n",
    "        super(MaskedLinearOut, self).__init__(in_feat, out_feat, bias=True)\n",
    "        self.mask = nn.Parameter(torch.zeros(out_feat, in_feat), requires_grad=False)\n",
    "#         self.mask = torch.zeros(out_feat, in_feat)\n",
    "        self.mk = (torch.arange(px_dim)+1)\n",
    "        for outidx in range(out_feat):\n",
    "            for inidx in range(in_feat):\n",
    "                if self.mk[outidx] > prev_mk[inidx]:\n",
    "                    self.mask[outidx, inidx] = 1.\n",
    "                \n",
    "    def forward(self, x):\n",
    "        return F.linear(x, self.weight * self.mask, self.bias)\n",
    "\n",
    "class Made(nn.Module):\n",
    "    def __init__(self, image_shape, hidden=[512, 512, 512]):\n",
    "        super(Made, self).__init__()\n",
    "        self.image_shape = image_shape\n",
    "        self.px_dim = math.prod(image_shape)\n",
    "        layers = []\n",
    "        dims = [self.px_dim] + hidden\n",
    "        prev_mk = (torch.arange(self.px_dim)+1)\n",
    "        for idx in range(len(dims)-1):\n",
    "            layers.append(MaskedLinear(dims[idx], dims[idx+1], self.px_dim, prev_mk))\n",
    "            prev_mk = layers[-1].mk\n",
    "            layers.append(nn.ReLU())\n",
    "        layers.append(MaskedLinearOut(dims[-1], dims[0], self.px_dim, prev_mk))\n",
    "        self.sequential = nn.Sequential(*layers)\n",
    "        self.loss_func = nn.BCEWithLogitsLoss(reduction='none')\n",
    "        \n",
    "    def get_logits(self, x):\n",
    "        logits = self.sequential(x.float())\n",
    "        return logits\n",
    "        \n",
    "    def forward(self, x):\n",
    "#         x = x.view(-1, self.px_dim).float()\n",
    "        x = x.float()\n",
    "        logits = self.get_logits(x)\n",
    "        loss = self.loss_func(logits, x).sum(dim=1).mean(dim=0)\n",
    "        return loss\n",
    "    \n",
    "    def sampling(self, size):\n",
    "        print('begin sampling')\n",
    "        self.eval()\n",
    "        with torch.no_grad():\n",
    "            sample = torch.ones(size, self.px_dim)\n",
    "            if next(self.parameters()).is_cuda:\n",
    "                sample = sample.cuda()\n",
    "            for i in range(self.px_dim):\n",
    "                logits = self.get_logits(sample)\n",
    "                sample[:,i] = torch.bernoulli(torch.sigmoid(logits[:,i]))\n",
    "            images = sample.view(-1, self.image_shape[0], self.image_shape[1], 1)\n",
    "        return images\n",
    "                "
   ]
  },
  {
   "cell_type": "code",
   "execution_count": 7,
   "metadata": {
    "colab": {},
    "colab_type": "code",
    "id": "WHLjAxjRVx_S"
   },
   "outputs": [],
   "source": [
    "import math\n",
    "def q2_b(train_data, test_data, image_shape, dset_id):\n",
    "    \"\"\"\n",
    "    train_data: A (n_train, H, W, 1) uint8 numpy array of binary images with values in {0, 1}\n",
    "    test_data: An (n_test, H, W, 1) uint8 numpy array of binary images with values in {0, 1}\n",
    "    image_shape: (H, W), height and width of the image\n",
    "    dset_id: An identifying number of which dataset is given (1 or 2). Most likely\n",
    "           used to set different hyperparameters for different datasets\n",
    "\n",
    "    Returns\n",
    "    - a (# of training iterations,) numpy array of train_losses evaluated every minibatch\n",
    "    - a (# of epochs + 1,) numpy array of test_losses evaluated once at initialization and after each epoch\n",
    "    - a numpy array of size (100, H, W, 1) of samples with values in {0, 1}\n",
    "    \"\"\"\n",
    "\n",
    "    \"\"\" YOUR CODE HERE \"\"\"\n",
    "    train_data = np.reshape(train_data, (-1, math.prod(image_shape)))\n",
    "    test_data = np.reshape(test_data, (-1, math.prod(image_shape)))\n",
    "\n",
    "    \n",
    "    DEVICE = torch.device('cuda')\n",
    "    train_loader, test_loader = get_loaders(train_data, test_data, bs=128)\n",
    "    model = Made((image_shape), [512, 512]).to(DEVICE)\n",
    "    adam_optim = torch.optim.Adam\n",
    "    nll_train, nll_test = training(\n",
    "        train_loader, test_loader,\n",
    "        model, adam_optim, learn_rate=0.001, device=DEVICE, epochs=20)\n",
    "#     breakpoint()\n",
    "    return nll_train, nll_test, model.sampling(100).cpu().numpy()"
   ]
  },
  {
   "cell_type": "markdown",
   "metadata": {
    "colab_type": "text",
    "id": "iBfCSKFnV-Mz"
   },
   "source": [
    "### Results\n",
    "\n",
    "Once you've implemented `q2_b`, execute the cells below to visualize and save your results\n",
    "\n"
   ]
  },
  {
   "cell_type": "code",
   "execution_count": 8,
   "metadata": {
    "colab": {
     "base_uri": "https://localhost:8080/",
     "height": 577
    },
    "colab_type": "code",
    "id": "frAYhilEwG2x",
    "outputId": "6f1db009-bf76-42f7-e9d8-af55239bc5b2",
    "run_control": {
     "marked": false
    }
   },
   "outputs": [
    {
     "name": "stdout",
     "output_type": "stream",
     "text": [
      "Epoch 0 train batch loss 1st: 277.080322265625 2nd: 274.53009033203125, last: 78.90274810791016\n",
      "Epoch 1 train batch loss 1st: 76.81095123291016 2nd: 76.80587768554688, last: 61.847496032714844\n",
      "Epoch 2 train batch loss 1st: 62.68989181518555 2nd: 63.79945373535156, last: 58.977848052978516\n",
      "Epoch 3 train batch loss 1st: 54.155059814453125 2nd: 54.914649963378906, last: 47.781219482421875\n",
      "Epoch 4 train batch loss 1st: 48.944000244140625 2nd: 48.46612548828125, last: 46.2287483215332\n",
      "Epoch 5 train batch loss 1st: 47.608978271484375 2nd: 47.389625549316406, last: 40.83782958984375\n",
      "Epoch 6 train batch loss 1st: 45.70537567138672 2nd: 42.199581146240234, last: 38.48487854003906\n",
      "Epoch 7 train batch loss 1st: 40.94133758544922 2nd: 41.74989318847656, last: 37.57849884033203\n",
      "Epoch 8 train batch loss 1st: 39.3671875 2nd: 38.745086669921875, last: 36.33030319213867\n",
      "Epoch 9 train batch loss 1st: 36.05864715576172 2nd: 36.94927215576172, last: 34.62053298950195\n",
      "Epoch 10 train batch loss 1st: 34.46900939941406 2nd: 32.84191131591797, last: 33.876251220703125\n",
      "Epoch 11 train batch loss 1st: 32.113067626953125 2nd: 33.927364349365234, last: 33.31254196166992\n",
      "Epoch 12 train batch loss 1st: 30.03081703186035 2nd: 32.94059753417969, last: 31.422931671142578\n",
      "Epoch 13 train batch loss 1st: 30.439250946044922 2nd: 30.519689559936523, last: 29.56488037109375\n",
      "Epoch 14 train batch loss 1st: 29.980106353759766 2nd: 30.422513961791992, last: 28.42668342590332\n",
      "Epoch 15 train batch loss 1st: 30.041397094726562 2nd: 29.15439796447754, last: 28.36475944519043\n",
      "Epoch 16 train batch loss 1st: 30.80718994140625 2nd: 28.132904052734375, last: 28.856718063354492\n",
      "Epoch 17 train batch loss 1st: 28.318058013916016 2nd: 28.259851455688477, last: 27.9943790435791\n",
      "Epoch 18 train batch loss 1st: 27.11429214477539 2nd: 28.187156677246094, last: 29.006229400634766\n",
      "Epoch 19 train batch loss 1st: 28.283519744873047 2nd: 28.459142684936523, last: 27.05411720275879\n",
      "begin sampling\n",
      "Final Test Loss: 27.0914\n"
     ]
    },
    {
     "data": {
      "image/png": "[encoded data removed]",
      "text/plain": [
       "<Figure size 432x288 with 1 Axes>"
      ]
     },
     "metadata": {
      "needs_background": "light"
     },
     "output_type": "display_data"
    },
    {
     "data": {
      "image/png": "[encoded data removed]",
      "text/plain": [
       "<Figure size 432x288 with 1 Axes>"
      ]
     },
     "metadata": {
      "needs_background": "light"
     },
     "output_type": "display_data"
    }
   ],
   "source": [
    "q2_save_results(1, 'b', q2_b)"
   ]
  },
  {
   "cell_type": "code",
   "execution_count": 9,
   "metadata": {
    "colab": {},
    "colab_type": "code",
    "id": "B5nBFeI7wJeN"
   },
   "outputs": [
    {
     "name": "stdout",
     "output_type": "stream",
     "text": [
      "Epoch 0 train batch loss 1st: 543.550048828125 2nd: 541.5263671875, last: 156.52957153320312\n",
      "Epoch 1 train batch loss 1st: 159.11326599121094 2nd: 160.50003051757812, last: 129.16943359375\n",
      "Epoch 2 train batch loss 1st: 124.82026672363281 2nd: 125.38554382324219, last: 117.18424987792969\n",
      "Epoch 3 train batch loss 1st: 116.07667541503906 2nd: 111.16040802001953, last: 105.020263671875\n",
      "Epoch 4 train batch loss 1st: 104.80918884277344 2nd: 105.65609741210938, last: 102.82414245605469\n",
      "Epoch 5 train batch loss 1st: 102.75518798828125 2nd: 106.22764587402344, last: 98.22146606445312\n",
      "Epoch 6 train batch loss 1st: 99.66242218017578 2nd: 99.96647644042969, last: 95.65850830078125\n",
      "Epoch 7 train batch loss 1st: 103.36571502685547 2nd: 101.20529174804688, last: 97.22017669677734\n",
      "Epoch 8 train batch loss 1st: 98.0230941772461 2nd: 94.19186401367188, last: 98.18730926513672\n",
      "Epoch 9 train batch loss 1st: 93.64641571044922 2nd: 94.47370910644531, last: 88.95919036865234\n",
      "Epoch 10 train batch loss 1st: 88.44387817382812 2nd: 91.68922424316406, last: 90.98184204101562\n",
      "Epoch 11 train batch loss 1st: 89.9609375 2nd: 88.6648178100586, last: 90.64546966552734\n",
      "Epoch 12 train batch loss 1st: 90.84426879882812 2nd: 86.05891418457031, last: 90.03289031982422\n",
      "Epoch 13 train batch loss 1st: 87.75048828125 2nd: 90.18614959716797, last: 92.95955657958984\n",
      "Epoch 14 train batch loss 1st: 87.73944854736328 2nd: 83.12501525878906, last: 93.07069396972656\n",
      "Epoch 15 train batch loss 1st: 88.40806579589844 2nd: 88.82486724853516, last: 85.64892578125\n",
      "Epoch 16 train batch loss 1st: 92.39012145996094 2nd: 86.91923522949219, last: 80.12944030761719\n",
      "Epoch 17 train batch loss 1st: 83.16297912597656 2nd: 86.36488342285156, last: 83.29884338378906\n",
      "Epoch 18 train batch loss 1st: 84.9077377319336 2nd: 83.58462524414062, last: 86.91744232177734\n",
      "Epoch 19 train batch loss 1st: 87.03878784179688 2nd: 84.00285339355469, last: 82.63680267333984\n",
      "begin sampling\n",
      "Final Test Loss: 87.5572\n"
     ]
    },
    {
     "data": {
      "image/png": "[encoded data removed]",
      "text/plain": [
       "<Figure size 432x288 with 1 Axes>"
      ]
     },
     "metadata": {
      "needs_background": "light"
     },
     "output_type": "display_data"
    },
    {
     "data": {
      "image/png": "[encoded data removed]",
      "text/plain": [
       "<Figure size 432x288 with 1 Axes>"
      ]
     },
     "metadata": {
      "needs_background": "light"
     },
     "output_type": "display_data"
    }
   ],
   "source": [
    "q2_save_results(2, 'b', q2_b)"
   ]
  }
 ],
 "metadata": {
  "accelerator": "GPU",
  "colab": {
   "collapsed_sections": [],
   "include_colab_link": true,
   "name": "Copy of Homework 1 Autoregressive Models.ipynb",
   "provenance": [],
   "toc_visible": true
  },
  "kernelspec": {
   "display_name": "Python 3",
   "language": "python",
   "name": "python3"
  },
  "language_info": {
   "codemirror_mode": {
    "name": "ipython",
    "version": 3
   },
   "file_extension": ".py",
   "mimetype": "text/x-python",
   "name": "python",
   "nbconvert_exporter": "python",
   "pygments_lexer": "ipython3",
   "version": "3.8.2"
  },
  "varInspector": {
   "cols": {
    "lenName": 16,
    "lenType": 16,
    "lenVar": "5"
   },
   "kernels_config": {
    "python": {
     "delete_cmd_postfix": "",
     "delete_cmd_prefix": "del ",
     "library": "var_list.py",
     "varRefreshCmd": "print(var_dic_list())"
    },
    "r": {
     "delete_cmd_postfix": ") ",
     "delete_cmd_prefix": "rm(",
     "library": "var_list.r",
     "varRefreshCmd": "cat(var_dic_list()) "
    }
   },
   "types_to_exclude": [
    "module",
    "function",
    "builtin_function_or_method",
    "instance",
    "_Feature"
   ],
   "window_display": false
  }
 },
 "nbformat": 4,
 "nbformat_minor": 1
}
