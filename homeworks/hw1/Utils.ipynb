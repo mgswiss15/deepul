{
 "cells": [
  {
   "cell_type": "code",
   "execution_count": 1,
   "metadata": {},
   "outputs": [],
   "source": [
    "%load_ext autoreload\n",
    "%autoreload 2\n",
    "from notebook2script import *"
   ]
  },
  {
   "cell_type": "markdown",
   "metadata": {},
   "source": [
    "# Training structure"
   ]
  },
  {
   "cell_type": "code",
   "execution_count": 2,
   "metadata": {
    "run_control": {
     "marked": false
    }
   },
   "outputs": [],
   "source": [
    "#export\n",
    "import torch\n",
    "import torch.nn as nn\n",
    "import torch.utils.data as data\n",
    "import torch.nn.init as init\n",
    "import torch.optim as optim\n",
    "import torch.nn.functional as F\n",
    "import numpy as np\n",
    "\n",
    "def training(train_loader, test_loader, model, optim_algo, learn_rate, device=torch.device('cpu'), epochs=20):\n",
    "    nll_train = []\n",
    "    nll_test = []\n",
    "    optimizer = optim_algo(model.parameters(), learn_rate)\n",
    "    test_loss = evaluate(test_loader, model, device)\n",
    "    nll_test.append(test_loss.item())\n",
    "    for epoch in range(epochs):\n",
    "        loss_list = train(train_loader, model, optimizer, learn_rate, device)\n",
    "        nll_train += loss_list\n",
    "        test_loss = evaluate(test_loader, model, device)\n",
    "        nll_test.append(test_loss.item())\n",
    "        print(f'Epoch {epoch} loss train: {loss_list[-1]}, test: {nll_test[-1]}')\n",
    "    return nll_train, nll_test\n",
    "        \n",
    "def train(train_loader, model, optimizer, learn_rate, device):\n",
    "    model.train()\n",
    "    loss_list = []\n",
    "    for batch in train_loader:\n",
    "        batch = batch.to(device)\n",
    "        logits = model(batch)\n",
    "        loss = model.loss_function(logits, batch) \n",
    "        optimizer.zero_grad()\n",
    "        loss.backward()\n",
    "        torch.nn.utils.clip_grad_norm_(model.parameters(), 1)\n",
    "        optimizer.step()\n",
    "        loss_list.append(loss.item())\n",
    "    return loss_list\n",
    "\n",
    "def evaluate(test_loader, model, device):\n",
    "    model.eval()\n",
    "    with torch.no_grad():\n",
    "        loss = 0\n",
    "        for batch in test_loader:\n",
    "            batch = batch.to(device)\n",
    "            logits = model(batch)\n",
    "            loss += model.loss_function(logits, batch) * batch.shape[0]\n",
    "        total_loss = loss / len(test_loader.dataset)\n",
    "    return total_loss\n",
    "        \n",
    "def get_loaders(train_data, test_data, bs):\n",
    "    train_loader = data.DataLoader(torch.as_tensor(train_data), batch_size=bs, shuffle=True)\n",
    "    test_loader = data.DataLoader(torch.as_tensor(test_data), batch_size=bs, shuffle=False)\n",
    "    return train_loader, test_loader"
   ]
  },
  {
   "cell_type": "markdown",
   "metadata": {},
   "source": [
    "### Export"
   ]
  },
  {
   "cell_type": "code",
   "execution_count": 3,
   "metadata": {},
   "outputs": [
    {
     "name": "stdout",
     "output_type": "stream",
     "text": [
      "Converted Utils.ipynb to /home/magda/Github/deepul/deepul/exp_utils.py\n"
     ]
    }
   ],
   "source": [
    "nb2script('Utils')"
   ]
  }
 ],
 "metadata": {
  "kernelspec": {
   "display_name": "Python 3",
   "language": "python",
   "name": "python3"
  },
  "language_info": {
   "codemirror_mode": {
    "name": "ipython",
    "version": 3
   },
   "file_extension": ".py",
   "mimetype": "text/x-python",
   "name": "python",
   "nbconvert_exporter": "python",
   "pygments_lexer": "ipython3",
   "version": "3.8.2"
  },
  "varInspector": {
   "cols": {
    "lenName": 16,
    "lenType": 16,
    "lenVar": "5"
   },
   "kernels_config": {
    "python": {
     "delete_cmd_postfix": "",
     "delete_cmd_prefix": "del ",
     "library": "var_list.py",
     "varRefreshCmd": "print(var_dic_list())"
    },
    "r": {
     "delete_cmd_postfix": ") ",
     "delete_cmd_prefix": "rm(",
     "library": "var_list.r",
     "varRefreshCmd": "cat(var_dic_list()) "
    }
   },
   "types_to_exclude": [
    "module",
    "function",
    "builtin_function_or_method",
    "instance",
    "_Feature"
   ],
   "window_display": false
  }
 },
 "nbformat": 4,
 "nbformat_minor": 4
}
